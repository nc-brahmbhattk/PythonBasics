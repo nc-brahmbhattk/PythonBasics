{
 "cells": [
  {
   "cell_type": "code",
   "execution_count": 1,
   "metadata": {},
   "outputs": [],
   "source": [
    "# Importing Python Libraries\n",
    "import numpy as np\n",
    "import pandas as pd\n",
    "import seaborn as sns\n",
    "import matplotlib.pyplot as plt\n",
    "from tabulate import tabulate\n",
    "import plotly.plotly as py\n",
    "import plotly.figure_factory as ff\n",
    "import math\n",
    "from scipy.stats import norm\n",
    "from scipy import stats\n",
    "import csv\n",
    "from seaborn import timeseries"
   ]
  },
  {
   "cell_type": "code",
   "execution_count": 2,
   "metadata": {
    "scrolled": true
   },
   "outputs": [
    {
     "name": "stderr",
     "output_type": "stream",
     "text": [
      "/anaconda2/lib/python2.7/site-packages/ipykernel_launcher.py:2: FutureWarning:\n",
      "\n",
      "from_csv is deprecated. Please use read_csv(...) instead. Note that some of the default arguments are different, so please refer to the documentation for from_csv when changing your function calls\n",
      "\n"
     ]
    },
    {
     "data": {
      "text/html": [
       "<div>\n",
       "<style scoped>\n",
       "    .dataframe tbody tr th:only-of-type {\n",
       "        vertical-align: middle;\n",
       "    }\n",
       "\n",
       "    .dataframe tbody tr th {\n",
       "        vertical-align: top;\n",
       "    }\n",
       "\n",
       "    .dataframe thead th {\n",
       "        text-align: right;\n",
       "    }\n",
       "</style>\n",
       "<table border=\"1\" class=\"dataframe\">\n",
       "  <thead>\n",
       "    <tr style=\"text-align: right;\">\n",
       "      <th></th>\n",
       "      <th>age</th>\n",
       "      <th>gender</th>\n",
       "      <th>salary</th>\n",
       "      <th>retirement_age</th>\n",
       "      <th>marital_status</th>\n",
       "      <th>state_of_residence</th>\n",
       "      <th>health_risk_score</th>\n",
       "      <th>salary_growth_rate</th>\n",
       "      <th>salary_risk_score</th>\n",
       "      <th>pensions</th>\n",
       "      <th>...</th>\n",
       "      <th>recommended_account11_name</th>\n",
       "      <th>recommended_account11_pre_tax_contrib</th>\n",
       "      <th>recommended_account11_roth_contrib</th>\n",
       "      <th>recommended_account11_post_tax_contrib</th>\n",
       "      <th>recommended_account11_taxable_contrib</th>\n",
       "      <th>recommended_account12_name</th>\n",
       "      <th>recommended_account12_pre_tax_contrib</th>\n",
       "      <th>recommended_account12_roth_contrib</th>\n",
       "      <th>recommended_account12_post_tax_contrib</th>\n",
       "      <th>recommended_account12_taxable_contrib</th>\n",
       "    </tr>\n",
       "    <tr>\n",
       "      <th>name</th>\n",
       "      <th></th>\n",
       "      <th></th>\n",
       "      <th></th>\n",
       "      <th></th>\n",
       "      <th></th>\n",
       "      <th></th>\n",
       "      <th></th>\n",
       "      <th></th>\n",
       "      <th></th>\n",
       "      <th></th>\n",
       "      <th></th>\n",
       "      <th></th>\n",
       "      <th></th>\n",
       "      <th></th>\n",
       "      <th></th>\n",
       "      <th></th>\n",
       "      <th></th>\n",
       "      <th></th>\n",
       "      <th></th>\n",
       "      <th></th>\n",
       "      <th></th>\n",
       "    </tr>\n",
       "  </thead>\n",
       "  <tbody>\n",
       "    <tr>\n",
       "      <th>637</th>\n",
       "      <td>60</td>\n",
       "      <td>M</td>\n",
       "      <td>50000</td>\n",
       "      <td>64</td>\n",
       "      <td>True</td>\n",
       "      <td>IL</td>\n",
       "      <td>0.4</td>\n",
       "      <td>0.005</td>\n",
       "      <td>-1.0</td>\n",
       "      <td>0</td>\n",
       "      <td>...</td>\n",
       "      <td>NaN</td>\n",
       "      <td>NaN</td>\n",
       "      <td>NaN</td>\n",
       "      <td>NaN</td>\n",
       "      <td>NaN</td>\n",
       "      <td>NaN</td>\n",
       "      <td>NaN</td>\n",
       "      <td>NaN</td>\n",
       "      <td>NaN</td>\n",
       "      <td>NaN</td>\n",
       "    </tr>\n",
       "    <tr>\n",
       "      <th>639</th>\n",
       "      <td>59</td>\n",
       "      <td>M</td>\n",
       "      <td>235000</td>\n",
       "      <td>66</td>\n",
       "      <td>True</td>\n",
       "      <td>VA</td>\n",
       "      <td>0.8</td>\n",
       "      <td>0.020</td>\n",
       "      <td>-0.5</td>\n",
       "      <td>95000</td>\n",
       "      <td>...</td>\n",
       "      <td>NaN</td>\n",
       "      <td>NaN</td>\n",
       "      <td>NaN</td>\n",
       "      <td>NaN</td>\n",
       "      <td>NaN</td>\n",
       "      <td>NaN</td>\n",
       "      <td>NaN</td>\n",
       "      <td>NaN</td>\n",
       "      <td>NaN</td>\n",
       "      <td>NaN</td>\n",
       "    </tr>\n",
       "    <tr>\n",
       "      <th>662</th>\n",
       "      <td>61</td>\n",
       "      <td>M</td>\n",
       "      <td>120000</td>\n",
       "      <td>65</td>\n",
       "      <td>False</td>\n",
       "      <td>PA</td>\n",
       "      <td>0.4</td>\n",
       "      <td>0.015</td>\n",
       "      <td>-0.5</td>\n",
       "      <td>0</td>\n",
       "      <td>...</td>\n",
       "      <td>NaN</td>\n",
       "      <td>NaN</td>\n",
       "      <td>NaN</td>\n",
       "      <td>NaN</td>\n",
       "      <td>NaN</td>\n",
       "      <td>NaN</td>\n",
       "      <td>NaN</td>\n",
       "      <td>NaN</td>\n",
       "      <td>NaN</td>\n",
       "      <td>NaN</td>\n",
       "    </tr>\n",
       "    <tr>\n",
       "      <th>663</th>\n",
       "      <td>65</td>\n",
       "      <td>M</td>\n",
       "      <td>300000</td>\n",
       "      <td>65</td>\n",
       "      <td>False</td>\n",
       "      <td>CO</td>\n",
       "      <td>0.4</td>\n",
       "      <td>0.010</td>\n",
       "      <td>-0.5</td>\n",
       "      <td>0</td>\n",
       "      <td>...</td>\n",
       "      <td>NaN</td>\n",
       "      <td>NaN</td>\n",
       "      <td>NaN</td>\n",
       "      <td>NaN</td>\n",
       "      <td>NaN</td>\n",
       "      <td>NaN</td>\n",
       "      <td>NaN</td>\n",
       "      <td>NaN</td>\n",
       "      <td>NaN</td>\n",
       "      <td>NaN</td>\n",
       "    </tr>\n",
       "    <tr>\n",
       "      <th>669</th>\n",
       "      <td>69</td>\n",
       "      <td>F</td>\n",
       "      <td>96000</td>\n",
       "      <td>67</td>\n",
       "      <td>True</td>\n",
       "      <td>MO</td>\n",
       "      <td>0.0</td>\n",
       "      <td>0.010</td>\n",
       "      <td>-1.0</td>\n",
       "      <td>0</td>\n",
       "      <td>...</td>\n",
       "      <td>NaN</td>\n",
       "      <td>NaN</td>\n",
       "      <td>NaN</td>\n",
       "      <td>NaN</td>\n",
       "      <td>NaN</td>\n",
       "      <td>NaN</td>\n",
       "      <td>NaN</td>\n",
       "      <td>NaN</td>\n",
       "      <td>NaN</td>\n",
       "      <td>NaN</td>\n",
       "    </tr>\n",
       "  </tbody>\n",
       "</table>\n",
       "<p>5 rows × 173 columns</p>\n",
       "</div>"
      ],
      "text/plain": [
       "      age gender  salary  retirement_age  marital_status state_of_residence  \\\n",
       "name                                                                          \n",
       "637    60      M   50000              64            True                 IL   \n",
       "639    59      M  235000              66            True                 VA   \n",
       "662    61      M  120000              65           False                 PA   \n",
       "663    65      M  300000              65           False                 CO   \n",
       "669    69      F   96000              67            True                 MO   \n",
       "\n",
       "      health_risk_score  salary_growth_rate  salary_risk_score  pensions  \\\n",
       "name                                                                       \n",
       "637                 0.4               0.005               -1.0         0   \n",
       "639                 0.8               0.020               -0.5     95000   \n",
       "662                 0.4               0.015               -0.5         0   \n",
       "663                 0.4               0.010               -0.5         0   \n",
       "669                 0.0               0.010               -1.0         0   \n",
       "\n",
       "                      ...                   recommended_account11_name  \\\n",
       "name                  ...                                                \n",
       "637                   ...                                          NaN   \n",
       "639                   ...                                          NaN   \n",
       "662                   ...                                          NaN   \n",
       "663                   ...                                          NaN   \n",
       "669                   ...                                          NaN   \n",
       "\n",
       "      recommended_account11_pre_tax_contrib  \\\n",
       "name                                          \n",
       "637                                     NaN   \n",
       "639                                     NaN   \n",
       "662                                     NaN   \n",
       "663                                     NaN   \n",
       "669                                     NaN   \n",
       "\n",
       "      recommended_account11_roth_contrib  \\\n",
       "name                                       \n",
       "637                                  NaN   \n",
       "639                                  NaN   \n",
       "662                                  NaN   \n",
       "663                                  NaN   \n",
       "669                                  NaN   \n",
       "\n",
       "     recommended_account11_post_tax_contrib  \\\n",
       "name                                          \n",
       "637                                     NaN   \n",
       "639                                     NaN   \n",
       "662                                     NaN   \n",
       "663                                     NaN   \n",
       "669                                     NaN   \n",
       "\n",
       "      recommended_account11_taxable_contrib  recommended_account12_name  \\\n",
       "name                                                                      \n",
       "637                                     NaN                         NaN   \n",
       "639                                     NaN                         NaN   \n",
       "662                                     NaN                         NaN   \n",
       "663                                     NaN                         NaN   \n",
       "669                                     NaN                         NaN   \n",
       "\n",
       "      recommended_account12_pre_tax_contrib  \\\n",
       "name                                          \n",
       "637                                     NaN   \n",
       "639                                     NaN   \n",
       "662                                     NaN   \n",
       "663                                     NaN   \n",
       "669                                     NaN   \n",
       "\n",
       "      recommended_account12_roth_contrib  \\\n",
       "name                                       \n",
       "637                                  NaN   \n",
       "639                                  NaN   \n",
       "662                                  NaN   \n",
       "663                                  NaN   \n",
       "669                                  NaN   \n",
       "\n",
       "     recommended_account12_post_tax_contrib  \\\n",
       "name                                          \n",
       "637                                     NaN   \n",
       "639                                     NaN   \n",
       "662                                     NaN   \n",
       "663                                     NaN   \n",
       "669                                     NaN   \n",
       "\n",
       "     recommended_account12_taxable_contrib  \n",
       "name                                        \n",
       "637                                    NaN  \n",
       "639                                    NaN  \n",
       "662                                    NaN  \n",
       "663                                    NaN  \n",
       "669                                    NaN  \n",
       "\n",
       "[5 rows x 173 columns]"
      ]
     },
     "execution_count": 2,
     "metadata": {},
     "output_type": "execute_result"
    }
   ],
   "source": [
    "# Importing data\n",
    "df = pd.DataFrame.from_csv('rawdata/data_revised_2.csv', header=0, sep=',', index_col=0)\n",
    "df.head()"
   ]
  },
  {
   "cell_type": "code",
   "execution_count": 3,
   "metadata": {},
   "outputs": [
    {
     "data": {
      "text/plain": [
       "0.2    40.0\n",
       "0.4    50.0\n",
       "0.6    59.0\n",
       "0.8    65.0\n",
       "Name: age, dtype: float64"
      ]
     },
     "execution_count": 3,
     "metadata": {},
     "output_type": "execute_result"
    },
    {
     "data": {
      "image/png": "[encoded data removed]",
      "text/plain": [
       "<matplotlib.figure.Figure at 0x1a18802a90>"
      ]
     },
     "metadata": {},
     "output_type": "display_data"
    }
   ],
   "source": [
    "#Visualization 1: Unconditional Distribution of investor ages\n",
    "#histogram\n",
    "sns.set()\n",
    "bins=[0,20,30,40,50,60,70,80,90]\n",
    "plt.hist(df.age, bins=bins)\n",
    "\n",
    "\n",
    "#Quantiles\n",
    "age = df.age\n",
    "age.quantile([0.2, 0.4,0.6, 0.8])\n"
   ]
  },
  {
   "cell_type": "code",
   "execution_count": 4,
   "metadata": {},
   "outputs": [
    {
     "data": {
      "text/plain": [
       "0.2   -3.0\n",
       "0.4   -1.0\n",
       "0.6    1.0\n",
       "0.8    4.0\n",
       "dtype: float64"
      ]
     },
     "execution_count": 4,
     "metadata": {},
     "output_type": "execute_result"
    },
    {
     "data": {
      "image/png": "[encoded data removed]",
      "text/plain": [
       "<matplotlib.figure.Figure at 0x1a17a99810>"
      ]
     },
     "metadata": {},
     "output_type": "display_data"
    }
   ],
   "source": [
    "#Visualization 2: Distribution of age difference for married investors\n",
    "ageMarriedInvestor = df.age[df.marital_status == True]\n",
    "spouseAgeMarriedInvestor = df.spouse_age[df.marital_status == True]\n",
    "diff = spouseAgeMarriedInvestor - ageMarriedInvestor\n",
    "\n",
    "#histogram\n",
    "sns.set()\n",
    "bins = [ -40, -30, -20,-10,0,10,20,30]\n",
    "plt.hist(diff, bins=bins)\n",
    "\n",
    "#Quantiles\n",
    "diff.quantile([0.2, 0.4, 0.6, 0.8])"
   ]
  },
  {
   "cell_type": "code",
   "execution_count": 5,
   "metadata": {},
   "outputs": [
    {
     "name": "stdout",
     "output_type": "stream",
     "text": [
      "Marital Status      Count\n",
      "----------------  -------\n",
      "Single                822\n",
      "Married              1219\n"
     ]
    },
    {
     "data": {
      "image/png": "[encoded data removed]",
      "text/plain": [
       "<matplotlib.figure.Figure at 0x1a17a6bd50>"
      ]
     },
     "metadata": {},
     "output_type": "display_data"
    }
   ],
   "source": [
    "#Visualization 3: Count of single vs. married investors\n",
    "countMarried = sum(df.marital_status==True)\n",
    "countMarried\n",
    "\n",
    "countSingle = sum(df.marital_status==False)\n",
    "countSingle\n",
    "\n",
    "#histogram\n",
    "sns.set()\n",
    "plt.hist(df.iloc[:,[4]], bins=2)\n",
    "\n",
    "print tabulate([[\"Single\", countSingle], [\"Married\", countMarried]], \n",
    "         headers=['Marital Status', 'Count'])"
   ]
  },
  {
   "cell_type": "code",
   "execution_count": 6,
   "metadata": {},
   "outputs": [
    {
     "name": "stdout",
     "output_type": "stream",
     "text": [
      "Investor Gender      Single    Male Spouse    Female Spouse\n",
      "-----------------  --------  -------------  ---------------\n",
      "Male                    262              9              487\n",
      "Female                  558            699               14\n",
      "Total                   822            708              501\n"
     ]
    }
   ],
   "source": [
    "# Visualization 4: Distribution of sex, conditional on marital status (2 possible values for single – f, m; 3 for married – f/f/, f/m, m/m)\n",
    "\n",
    "df.marital_status\n",
    "df.gender\n",
    "df.spouse_gender\n",
    "\n",
    "#newdf = df.filter(items=['marital_status', 'gender', 'spouse_gender'])\n",
    "\n",
    "singleM = df[(df['marital_status']==False) & (df.gender=='M')]\n",
    "singleF = df[(df['marital_status']==False) & (df.gender=='F')]\n",
    "singleTot = df[(df['marital_status']==False)]\n",
    "\n",
    "countSingleM = len(singleM.index)\n",
    "countSingleF = len(singleF.index)\n",
    "countSingleTot = len(singleTot.index)\n",
    "\n",
    "MM = df[(df['marital_status']==True) & (df.gender=='M') & (df.spouse_gender=='M')]\n",
    "MF = df[(df['marital_status']==True) & (df.gender=='M') & (df.spouse_gender=='F')]\n",
    "FF = df[(df['marital_status']==True) & (df.gender=='F') & (df.spouse_gender=='F')]\n",
    "FM = df[(df['marital_status']==True) & (df.gender=='F') & (df.spouse_gender=='M')]\n",
    "\n",
    "countMM = len(MM.index)\n",
    "countMF = len(MF.index)\n",
    "countFF = len(FF.index)\n",
    "countFM  = len(FM.index)\n",
    "\n",
    "#spouseM = sum(countMM, countFM)\n",
    "\n",
    "#spouseF = sum(countFF, countMF)\n",
    "\n",
    "print tabulate([[\"Male\", countSingleM, countMM, countMF], \n",
    "                [\"Female\", countSingleF, countFM, countFF],\n",
    "                [\"Total\", countSingleTot, \"708\", \"501\"]],\n",
    "                  headers=['Investor Gender', 'Single', 'Male Spouse', 'Female Spouse'])"
   ]
  },
  {
   "cell_type": "code",
   "execution_count": 7,
   "metadata": {},
   "outputs": [
    {
     "name": "stdout",
     "output_type": "stream",
     "text": [
      "Health Risk      Count\n",
      "-------------  -------\n",
      "Poor                32\n",
      "Below Average       82\n",
      "Average            669\n",
      "Above Average      755\n",
      "Excellent          483\n"
     ]
    },
    {
     "data": {
      "image/png": "[encoded data removed]",
      "text/plain": [
       "<matplotlib.figure.Figure at 0x1a17d2d410>"
      ]
     },
     "metadata": {},
     "output_type": "display_data"
    }
   ],
   "source": [
    "#Visualization 5: Distribution of Health Risk Questionnaire Responses\n",
    "hs = df.health_risk_score.to_frame()\n",
    "\n",
    "# removing NaN's\n",
    "cleanhs = hs[np.isfinite(hs['health_risk_score'])]\n",
    "\n",
    "\n",
    "Poordf = df.iloc[:,[6]]==-1.0\n",
    "Poor = Poordf[Poordf.health_risk_score==True]\n",
    "\n",
    "\n",
    "BelowAveragedf = df.iloc[:,[6]]==-0.6\n",
    "BelowAverage = BelowAveragedf[BelowAveragedf.health_risk_score==True]\n",
    "\n",
    "Averagedf = df.iloc[:,[6]]==0.0\n",
    "Average = Averagedf[Averagedf.health_risk_score==True]\n",
    "\n",
    "AboveAveragedf = df.iloc[:,[6]]==0.4\n",
    "AboveAverage = AboveAveragedf[AboveAveragedf.health_risk_score==True]\n",
    "\n",
    "Excellentdf = df.iloc[:,[6]]==0.8\n",
    "Excellent = Excellentdf[Excellentdf.health_risk_score==True]\n",
    "\n",
    "\n",
    "data = {'Poor': Poor.shape[0], 'Below Average': BelowAverage.shape[0], \n",
    "        'Average': Average.shape[0], 'Above Average': AboveAverage.shape[0],\n",
    "        'Excellent': Excellent.shape[0]}\n",
    "names = list(data.keys())\n",
    "values = list(data.values())\n",
    "fig, ax = plt.subplots()\n",
    "ax.bar(names, values)\n",
    "fig.suptitle('Health Risk Questionnaire')\n",
    "\n",
    "\n",
    "print tabulate([[\"Poor\", Poor.shape[0]], [\"Below Average\", BelowAverage.shape[0]], \n",
    "               [\"Average\", Average.shape[0]], [\"Above Average\", AboveAverage.shape[0]],\n",
    "               [\"Excellent\", Excellent.shape[0]]], \n",
    "         headers=['Health Risk', 'Count'])"
   ]
  },
  {
   "cell_type": "code",
   "execution_count": 8,
   "metadata": {},
   "outputs": [
    {
     "name": "stdout",
     "output_type": "stream",
     "text": [
      "Salary Risk                    Count\n",
      "---------------------------  -------\n",
      "Very Unlikely                   1186\n",
      "Unlikely                         386\n",
      "Neither Unlikely nor Likely      252\n",
      "Likely                           153\n",
      "Very Likely                       44\n"
     ]
    },
    {
     "data": {
      "image/png": "[encoded data removed]",
      "text/plain": [
       "<matplotlib.figure.Figure at 0x1a180192d0>"
      ]
     },
     "metadata": {},
     "output_type": "display_data"
    }
   ],
   "source": [
    "#Visualization 6: Distribution of Salary Risk Questionnaire Responses\n",
    "\n",
    "salaryRisk = df.iloc[:,[8]]\n",
    "\n",
    "# removing NaN's\n",
    "cleanSalaryRisk = salaryRisk[np.isfinite(salaryRisk['salary_risk_score'])]\n",
    "pd.unique(cleanSalaryRisk['salary_risk_score'])\n",
    "\n",
    "\n",
    "VeryUnlikelydf = df.iloc[:,[8]]==-1.0\n",
    "VeryUnlikely = VeryUnlikelydf[VeryUnlikelydf.salary_risk_score==True]\n",
    "\n",
    "Unlikelydf = df.iloc[:,[8]]==-0.5\n",
    "Unlikely = Unlikelydf[Unlikelydf.salary_risk_score==True]\n",
    "\n",
    "Neutraldf = df.iloc[:,[8]]==0.0\n",
    "Neutral = Neutraldf[Neutraldf.salary_risk_score==True]\n",
    "\n",
    "Likelydf = df.iloc[:,[8]]==0.5\n",
    "Likely = Likelydf[Likelydf.salary_risk_score==True]\n",
    "\n",
    "VeryLikelydf = df.iloc[:,[8]]==1.0\n",
    "VeryLikely = VeryLikelydf[VeryLikelydf.salary_risk_score==True]\n",
    "\n",
    "\n",
    "data = {'Very Unlikely': VeryUnlikely.shape[0], 'Unlikely': Unlikely.shape[0], \n",
    "        'Neither Likely nor Unlikely': Neutral.shape[0], 'Likely': Likely.shape[0],\n",
    "        'Very Likely': VeryLikely.shape[0]}\n",
    "names = list(data.keys())\n",
    "values = list(data.values())\n",
    "fig, ax = plt.subplots()\n",
    "ax.bar(names, values)\n",
    "fig.suptitle('Salary Risk Questionnaire')\n",
    "\n",
    "\n",
    "print tabulate([[\"Very Unlikely\", VeryUnlikely.shape[0]], [\"Unlikely\", Unlikely.shape[0]], \n",
    "               [\"Neither Unlikely nor Likely\", Neutral.shape[0]], [\"Likely\", Likely.shape[0]],\n",
    "               [\"Very Likely\", VeryLikely.shape[0]]], \n",
    "         headers=['Salary Risk', 'Count'])"
   ]
  },
  {
   "cell_type": "code",
   "execution_count": 20,
   "metadata": {},
   "outputs": [
    {
     "data": {
      "text/html": [
       "<div>\n",
       "<style scoped>\n",
       "    .dataframe tbody tr th:only-of-type {\n",
       "        vertical-align: middle;\n",
       "    }\n",
       "\n",
       "    .dataframe tbody tr th {\n",
       "        vertical-align: top;\n",
       "    }\n",
       "\n",
       "    .dataframe thead th {\n",
       "        text-align: right;\n",
       "    }\n",
       "</style>\n",
       "<table border=\"1\" class=\"dataframe\">\n",
       "  <thead>\n",
       "    <tr style=\"text-align: right;\">\n",
       "      <th></th>\n",
       "      <th>retirement_age</th>\n",
       "    </tr>\n",
       "  </thead>\n",
       "  <tbody>\n",
       "    <tr>\n",
       "      <th>0.2</th>\n",
       "      <td>64.0</td>\n",
       "    </tr>\n",
       "    <tr>\n",
       "      <th>0.4</th>\n",
       "      <td>65.0</td>\n",
       "    </tr>\n",
       "    <tr>\n",
       "      <th>0.6</th>\n",
       "      <td>67.0</td>\n",
       "    </tr>\n",
       "    <tr>\n",
       "      <th>0.8</th>\n",
       "      <td>67.0</td>\n",
       "    </tr>\n",
       "  </tbody>\n",
       "</table>\n",
       "</div>"
      ],
      "text/plain": [
       "     retirement_age\n",
       "0.2            64.0\n",
       "0.4            65.0\n",
       "0.6            67.0\n",
       "0.8            67.0"
      ]
     },
     "execution_count": 20,
     "metadata": {},
     "output_type": "execute_result"
    },
    {
     "data": {
      "image/png": "[encoded data removed]",
      "text/plain": [
       "<matplotlib.figure.Figure at 0x1a1831bed0>"
      ]
     },
     "metadata": {},
     "output_type": "display_data"
    }
   ],
   "source": [
    "#Visualization 8.1: Distribution of desired retirement ages\n",
    "\n",
    "# distribution data\n",
    "retirementAge = df.iloc[:,[3]]\n",
    "sns.set()\n",
    "#bins=[40, 50, 50, 60, 70, 80]\n",
    "plt.hist(retirementAge)\n",
    "\n",
    "# quartiles or quantile data\n",
    "retirementAge.quantile([0.2, 0.4, 0.6, 0.8])"
   ]
  },
  {
   "cell_type": "code",
   "execution_count": 230,
   "metadata": {},
   "outputs": [
    {
     "data": {
      "text/html": [
       "<div>\n",
       "<style scoped>\n",
       "    .dataframe tbody tr th:only-of-type {\n",
       "        vertical-align: middle;\n",
       "    }\n",
       "\n",
       "    .dataframe tbody tr th {\n",
       "        vertical-align: top;\n",
       "    }\n",
       "\n",
       "    .dataframe thead th {\n",
       "        text-align: right;\n",
       "    }\n",
       "</style>\n",
       "<table border=\"1\" class=\"dataframe\">\n",
       "  <thead>\n",
       "    <tr style=\"text-align: right;\">\n",
       "      <th></th>\n",
       "      <th>recommended_retirement_age</th>\n",
       "    </tr>\n",
       "  </thead>\n",
       "  <tbody>\n",
       "    <tr>\n",
       "      <th>0.2</th>\n",
       "      <td>65.0</td>\n",
       "    </tr>\n",
       "    <tr>\n",
       "      <th>0.4</th>\n",
       "      <td>66.0</td>\n",
       "    </tr>\n",
       "    <tr>\n",
       "      <th>0.6</th>\n",
       "      <td>67.0</td>\n",
       "    </tr>\n",
       "    <tr>\n",
       "      <th>0.8</th>\n",
       "      <td>69.0</td>\n",
       "    </tr>\n",
       "  </tbody>\n",
       "</table>\n",
       "</div>"
      ],
      "text/plain": [
       "     recommended_retirement_age\n",
       "0.2                        65.0\n",
       "0.4                        66.0\n",
       "0.6                        67.0\n",
       "0.8                        69.0"
      ]
     },
     "execution_count": 230,
     "metadata": {},
     "output_type": "execute_result"
    },
    {
     "data": {
      "image/png": "[encoded data removed]",
      "text/plain": [
       "<matplotlib.figure.Figure at 0x1a234e9e90>"
      ]
     },
     "metadata": {},
     "output_type": "display_data"
    }
   ],
   "source": [
    "#Visualization 8.2: Distribution of recommended retirement ages\n",
    "\n",
    "# distribution data\n",
    "recRetirementAge = df.iloc[:,[102]]\n",
    "sns.set()\n",
    "#bins=[0, 30, 40, 50, 60, 70, 80]\n",
    "plt.hist(recRetirementAge)\n",
    "\n",
    "# quartiles or quantile data\n",
    "retirementAge.quantile([0.2, 0.4, 0.6, 0.8])"
   ]
  },
  {
   "cell_type": "code",
   "execution_count": 222,
   "metadata": {},
   "outputs": [
    {
     "data": {
      "text/plain": [
       "0.2   -2.0\n",
       "0.4    0.0\n",
       "0.6    0.0\n",
       "0.8    0.0\n",
       "dtype: float64"
      ]
     },
     "execution_count": 222,
     "metadata": {},
     "output_type": "execute_result"
    },
    {
     "data": {
      "image/png": "[encoded data removed]",
      "text/plain": [
       "<matplotlib.figure.Figure at 0x1a217c1950>"
      ]
     },
     "metadata": {},
     "output_type": "display_data"
    }
   ],
   "source": [
    "#Visualization 8.3: Distribution of difference in desired and recommended retirement ages\n",
    "\n",
    "new = df.iloc[:,[3, 102]]\n",
    "difference = new.retirement_age - new.recommended_retirement_age\n",
    "#questionable \n",
    "#great = diff[diff>0]\n",
    "#lower = diff[diff<0]\n",
    "\n",
    "sns.set()\n",
    "bins=[-10,-5,-3,-2,-1,0,1,2,3,5,10]\n",
    "plt.hist(difference, bins=bins)\n",
    "\n",
    "\n",
    "#new[new.retirement_age!=new.recommended_retirement_age].shape[0]\n",
    "\n",
    "#quartiles or quantile data\n",
    "difference.quantile([0.2,0.4,0.6,0.8])"
   ]
  },
  {
   "cell_type": "code",
   "execution_count": 23,
   "metadata": {},
   "outputs": [
    {
     "data": {
      "text/html": [
       "<div>\n",
       "<style scoped>\n",
       "    .dataframe tbody tr th:only-of-type {\n",
       "        vertical-align: middle;\n",
       "    }\n",
       "\n",
       "    .dataframe tbody tr th {\n",
       "        vertical-align: top;\n",
       "    }\n",
       "\n",
       "    .dataframe thead th {\n",
       "        text-align: right;\n",
       "    }\n",
       "</style>\n",
       "<table border=\"1\" class=\"dataframe\">\n",
       "  <thead>\n",
       "    <tr style=\"text-align: right;\">\n",
       "      <th></th>\n",
       "      <th>salary</th>\n",
       "    </tr>\n",
       "  </thead>\n",
       "  <tbody>\n",
       "    <tr>\n",
       "      <th>0.2</th>\n",
       "      <td>40000.0</td>\n",
       "    </tr>\n",
       "    <tr>\n",
       "      <th>0.4</th>\n",
       "      <td>55000.0</td>\n",
       "    </tr>\n",
       "    <tr>\n",
       "      <th>0.6</th>\n",
       "      <td>75000.0</td>\n",
       "    </tr>\n",
       "    <tr>\n",
       "      <th>0.8</th>\n",
       "      <td>100000.0</td>\n",
       "    </tr>\n",
       "  </tbody>\n",
       "</table>\n",
       "</div>"
      ],
      "text/plain": [
       "       salary\n",
       "0.2   40000.0\n",
       "0.4   55000.0\n",
       "0.6   75000.0\n",
       "0.8  100000.0"
      ]
     },
     "execution_count": 23,
     "metadata": {},
     "output_type": "execute_result"
    },
    {
     "data": {
      "image/png": "[encoded data removed]",
      "text/plain": [
       "<matplotlib.figure.Figure at 0x1a18401050>"
      ]
     },
     "metadata": {},
     "output_type": "display_data"
    }
   ],
   "source": [
    "#Visualization 9: Distribution of Salary (Unconditional)\n",
    "\n",
    "\n",
    "#sns.distplot(cleanSalary, axlabel=\"Salary\", hist=True)\n",
    "\n",
    "salary = df.iloc[:,[2]]\n",
    "cleanSalary = salary[salary['salary']>1000]\n",
    "\n",
    "sns.set()\n",
    "#bins=[0,25000,40000,50000,60000,75000,100000]\n",
    "plt.hist(cleanSalary)\n",
    "\n",
    "#quantiles\n",
    "cleanSalary.quantile([0.2,0.4,0.6,0.8])"
   ]
  },
  {
   "cell_type": "code",
   "execution_count": 96,
   "metadata": {},
   "outputs": [
    {
     "data": {
      "text/plain": [
       "Text(0.5,1,u'Married Salary')"
      ]
     },
     "execution_count": 96,
     "metadata": {},
     "output_type": "execute_result"
    },
    {
     "data": {
      "image/png": "[encoded data removed]",
      "text/plain": [
       "<matplotlib.figure.Figure at 0x1a26677c10>"
      ]
     },
     "metadata": {},
     "output_type": "display_data"
    }
   ],
   "source": [
    "#Visualization 10: Distribution of Salary conditional on marital status\n",
    "\n",
    "salaryAndMarital = df.iloc[:,[2, 4, 15]]\n",
    "\n",
    "#single\n",
    "singleSalaryAndMarital = salaryAndMarital[salaryAndMarital.marital_status==False]\n",
    "singleSalary = singleSalaryAndMarital.iloc[:,[0]]\n",
    "singleClean = singleSalary[np.isfinite(singleSalary['salary']) & (singleSalary['salary']>1000)]\n",
    "\n",
    "\n",
    "#married\n",
    "marriedSalaryAndMarital = salaryAndMarital[salaryAndMarital.marital_status==True]\n",
    "marriedSalary = marriedSalaryAndMarital.iloc[:,[0, 2]]\n",
    "marriedSalary['combined_salary'] = marriedSalary['salary'] + marriedSalary['spouse_salary'] \n",
    "marriedCombined = marriedSalary.iloc[:,[2]]\n",
    "marriedClean = marriedCombined[np.isfinite(marriedCombined['combined_salary']) & (marriedCombined['combined_salary']>1000)]\n",
    "\n",
    "\n",
    "#plotting\n",
    "fig, axes = plt.subplots(nrows=1, ncols=2)\n",
    "ax0, ax1 = axes.flatten()\n",
    "\n",
    "ax0.hist(singleClean, normed=1, histtype='bar')\n",
    "ax0.set_title('Single Salary')\n",
    "\n",
    "ax1.hist(marriedClean, normed=1, histtype='bar', color='green')\n",
    "ax1.set_title('Married Salary')\n",
    "\n",
    "\n",
    "# quartiles \n",
    "#marriedClean.quantile([0.2,0.4,0.6,0.8]), singleClean.quantile([0.2,0.4,0.6,0.8])"
   ]
  },
  {
   "cell_type": "code",
   "execution_count": 239,
   "metadata": {},
   "outputs": [
    {
     "data": {
      "text/plain": [
       "([array([  0.,   0.,   1.,  55., 233., 384., 492., 692., 169.,   5.]),\n",
       "  array([236.,  41.,  91., 139., 132., 257., 324., 275., 249., 287.])],\n",
       " array([  0. ,  34.7,  69.4, 104.1, 138.8, 173.5, 208.2, 242.9, 277.6,\n",
       "        312.3, 347. ]),\n",
       " <a list of 2 Lists of Patches objects>)"
      ]
     },
     "execution_count": 239,
     "metadata": {},
     "output_type": "execute_result"
    },
    {
     "data": {
      "image/png": "[encoded data removed]",
      "text/plain": [
       "<matplotlib.figure.Figure at 0x1a23971ed0>"
      ]
     },
     "metadata": {},
     "output_type": "display_data"
    }
   ],
   "source": [
    "#Visualization 11: Distribution of Salary conditional on age\n",
    "#g = sns.kdeplot(df.age, df.salary, shade=True, cbar=True)\n",
    "#g.set(ylim=(0, 150000))\n",
    "#g.set(xlim=(20, 80))\n",
    "\n",
    "salary = df.iloc[:,[0, 2]]\n",
    "cleanSalary = salary[salary['salary']>1000]\n",
    "\n",
    "plt.hist(cleanSalary)\n",
    "\n",
    "\n",
    "# number of users per density\n"
   ]
  },
  {
   "cell_type": "code",
   "execution_count": 166,
   "metadata": {},
   "outputs": [
    {
     "ename": "ValueError",
     "evalue": "Shape of passed values is (1, 363), indices imply (2, 363)",
     "output_type": "error",
     "traceback": [
      "\u001b[0;31m---------------------------------------------------------------------------\u001b[0m",
      "\u001b[0;31mValueError\u001b[0m                                Traceback (most recent call last)",
      "\u001b[0;32m<ipython-input-166-5f1b6a10a531>\u001b[0m in \u001b[0;36m<module>\u001b[0;34m()\u001b[0m\n\u001b[1;32m      4\u001b[0m \u001b[0;34m\u001b[0m\u001b[0m\n\u001b[1;32m      5\u001b[0m \u001b[0mgi\u001b[0m \u001b[0;34m=\u001b[0m \u001b[0mfilterOut\u001b[0m\u001b[0;34m.\u001b[0m\u001b[0mpensions\u001b[0m \u001b[0;34m+\u001b[0m \u001b[0mfilterOut\u001b[0m\u001b[0;34m.\u001b[0m\u001b[0mannuities\u001b[0m\u001b[0;34m\u001b[0m\u001b[0m\n\u001b[0;32m----> 6\u001b[0;31m \u001b[0mgiNew\u001b[0m \u001b[0;34m=\u001b[0m \u001b[0mpd\u001b[0m\u001b[0;34m.\u001b[0m\u001b[0mDataFrame\u001b[0m\u001b[0;34m(\u001b[0m\u001b[0mgi\u001b[0m\u001b[0;34m,\u001b[0m \u001b[0mcolumns\u001b[0m\u001b[0;34m=\u001b[0m\u001b[0mlist\u001b[0m\u001b[0;34m(\u001b[0m\u001b[0;34m\"GI\"\u001b[0m\u001b[0;34m)\u001b[0m\u001b[0;34m)\u001b[0m\u001b[0;34m\u001b[0m\u001b[0m\n\u001b[0m\u001b[1;32m      7\u001b[0m \u001b[0mgiNew\u001b[0m\u001b[0;34m\u001b[0m\u001b[0m\n\u001b[1;32m      8\u001b[0m \u001b[0;34m\u001b[0m\u001b[0m\n",
      "\u001b[0;32m/anaconda2/lib/python2.7/site-packages/pandas/core/frame.pyc\u001b[0m in \u001b[0;36m__init__\u001b[0;34m(self, data, index, columns, dtype, copy)\u001b[0m\n\u001b[1;32m    359\u001b[0m             \u001b[0;32melse\u001b[0m\u001b[0;34m:\u001b[0m\u001b[0;34m\u001b[0m\u001b[0m\n\u001b[1;32m    360\u001b[0m                 mgr = self._init_ndarray(data, index, columns, dtype=dtype,\n\u001b[0;32m--> 361\u001b[0;31m                                          copy=copy)\n\u001b[0m\u001b[1;32m    362\u001b[0m         \u001b[0;32melif\u001b[0m \u001b[0misinstance\u001b[0m\u001b[0;34m(\u001b[0m\u001b[0mdata\u001b[0m\u001b[0;34m,\u001b[0m \u001b[0;34m(\u001b[0m\u001b[0mlist\u001b[0m\u001b[0;34m,\u001b[0m \u001b[0mtypes\u001b[0m\u001b[0;34m.\u001b[0m\u001b[0mGeneratorType\u001b[0m\u001b[0;34m)\u001b[0m\u001b[0;34m)\u001b[0m\u001b[0;34m:\u001b[0m\u001b[0;34m\u001b[0m\u001b[0m\n\u001b[1;32m    363\u001b[0m             \u001b[0;32mif\u001b[0m \u001b[0misinstance\u001b[0m\u001b[0;34m(\u001b[0m\u001b[0mdata\u001b[0m\u001b[0;34m,\u001b[0m \u001b[0mtypes\u001b[0m\u001b[0;34m.\u001b[0m\u001b[0mGeneratorType\u001b[0m\u001b[0;34m)\u001b[0m\u001b[0;34m:\u001b[0m\u001b[0;34m\u001b[0m\u001b[0m\n",
      "\u001b[0;32m/anaconda2/lib/python2.7/site-packages/pandas/core/frame.pyc\u001b[0m in \u001b[0;36m_init_ndarray\u001b[0;34m(self, values, index, columns, dtype, copy)\u001b[0m\n\u001b[1;32m    531\u001b[0m             \u001b[0mvalues\u001b[0m \u001b[0;34m=\u001b[0m \u001b[0mmaybe_infer_to_datetimelike\u001b[0m\u001b[0;34m(\u001b[0m\u001b[0mvalues\u001b[0m\u001b[0;34m)\u001b[0m\u001b[0;34m\u001b[0m\u001b[0m\n\u001b[1;32m    532\u001b[0m \u001b[0;34m\u001b[0m\u001b[0m\n\u001b[0;32m--> 533\u001b[0;31m         \u001b[0;32mreturn\u001b[0m \u001b[0mcreate_block_manager_from_blocks\u001b[0m\u001b[0;34m(\u001b[0m\u001b[0;34m[\u001b[0m\u001b[0mvalues\u001b[0m\u001b[0;34m]\u001b[0m\u001b[0;34m,\u001b[0m \u001b[0;34m[\u001b[0m\u001b[0mcolumns\u001b[0m\u001b[0;34m,\u001b[0m \u001b[0mindex\u001b[0m\u001b[0;34m]\u001b[0m\u001b[0;34m)\u001b[0m\u001b[0;34m\u001b[0m\u001b[0m\n\u001b[0m\u001b[1;32m    534\u001b[0m \u001b[0;34m\u001b[0m\u001b[0m\n\u001b[1;32m    535\u001b[0m     \u001b[0;34m@\u001b[0m\u001b[0mproperty\u001b[0m\u001b[0;34m\u001b[0m\u001b[0m\n",
      "\u001b[0;32m/anaconda2/lib/python2.7/site-packages/pandas/core/internals.pyc\u001b[0m in \u001b[0;36mcreate_block_manager_from_blocks\u001b[0;34m(blocks, axes)\u001b[0m\n\u001b[1;32m   4629\u001b[0m         \u001b[0mblocks\u001b[0m \u001b[0;34m=\u001b[0m \u001b[0;34m[\u001b[0m\u001b[0mgetattr\u001b[0m\u001b[0;34m(\u001b[0m\u001b[0mb\u001b[0m\u001b[0;34m,\u001b[0m \u001b[0;34m'values'\u001b[0m\u001b[0;34m,\u001b[0m \u001b[0mb\u001b[0m\u001b[0;34m)\u001b[0m \u001b[0;32mfor\u001b[0m \u001b[0mb\u001b[0m \u001b[0;32min\u001b[0m \u001b[0mblocks\u001b[0m\u001b[0;34m]\u001b[0m\u001b[0;34m\u001b[0m\u001b[0m\n\u001b[1;32m   4630\u001b[0m         \u001b[0mtot_items\u001b[0m \u001b[0;34m=\u001b[0m \u001b[0msum\u001b[0m\u001b[0;34m(\u001b[0m\u001b[0mb\u001b[0m\u001b[0;34m.\u001b[0m\u001b[0mshape\u001b[0m\u001b[0;34m[\u001b[0m\u001b[0;36m0\u001b[0m\u001b[0;34m]\u001b[0m \u001b[0;32mfor\u001b[0m \u001b[0mb\u001b[0m \u001b[0;32min\u001b[0m \u001b[0mblocks\u001b[0m\u001b[0;34m)\u001b[0m\u001b[0;34m\u001b[0m\u001b[0m\n\u001b[0;32m-> 4631\u001b[0;31m         \u001b[0mconstruction_error\u001b[0m\u001b[0;34m(\u001b[0m\u001b[0mtot_items\u001b[0m\u001b[0;34m,\u001b[0m \u001b[0mblocks\u001b[0m\u001b[0;34m[\u001b[0m\u001b[0;36m0\u001b[0m\u001b[0;34m]\u001b[0m\u001b[0;34m.\u001b[0m\u001b[0mshape\u001b[0m\u001b[0;34m[\u001b[0m\u001b[0;36m1\u001b[0m\u001b[0;34m:\u001b[0m\u001b[0;34m]\u001b[0m\u001b[0;34m,\u001b[0m \u001b[0maxes\u001b[0m\u001b[0;34m,\u001b[0m \u001b[0me\u001b[0m\u001b[0;34m)\u001b[0m\u001b[0;34m\u001b[0m\u001b[0m\n\u001b[0m\u001b[1;32m   4632\u001b[0m \u001b[0;34m\u001b[0m\u001b[0m\n\u001b[1;32m   4633\u001b[0m \u001b[0;34m\u001b[0m\u001b[0m\n",
      "\u001b[0;32m/anaconda2/lib/python2.7/site-packages/pandas/core/internals.pyc\u001b[0m in \u001b[0;36mconstruction_error\u001b[0;34m(tot_items, block_shape, axes, e)\u001b[0m\n\u001b[1;32m   4606\u001b[0m         \u001b[0;32mraise\u001b[0m \u001b[0mValueError\u001b[0m\u001b[0;34m(\u001b[0m\u001b[0;34m\"Empty data passed with indices specified.\"\u001b[0m\u001b[0;34m)\u001b[0m\u001b[0;34m\u001b[0m\u001b[0m\n\u001b[1;32m   4607\u001b[0m     raise ValueError(\"Shape of passed values is {0}, indices imply {1}\".format(\n\u001b[0;32m-> 4608\u001b[0;31m         passed, implied))\n\u001b[0m\u001b[1;32m   4609\u001b[0m \u001b[0;34m\u001b[0m\u001b[0m\n\u001b[1;32m   4610\u001b[0m \u001b[0;34m\u001b[0m\u001b[0m\n",
      "\u001b[0;31mValueError\u001b[0m: Shape of passed values is (1, 363), indices imply (2, 363)"
     ]
    }
   ],
   "source": [
    "#Visualization 12: Distribution of combined pension and annuity as % of salary\n",
    "\n",
    "filterOut = df[(df.pensions > 0) | (df.annuities > 0)]\n",
    "\n",
    "gi = filterOut.pensions + filterOut.annuities\n",
    "giNew = pd.DataFrame(gi, columns=list(\"GI\"))\n",
    "giNew\n",
    "\n",
    "#salary = df.salary.to_frame()\n",
    "\n",
    "#print(type(giFrame))\n",
    "\n",
    "#pd.concat(giFrame, salary)\n",
    "#sns.regplot(x=df.salary, y=gi.GI, data=df, color=\"g\",x_bins=10, ci=90, x_estimator=np.mean, order=2)\n",
    "\n",
    "#sns.set(color_codes=True)\n",
    "#sns.lmplot(x=df.salary, y=gi, data=df)\n",
    "\n",
    "\n",
    "\n",
    "\n",
    "## is the dot an average, median? veritical lines meaning? max/min/average\n",
    "\n",
    "\n",
    "## let's filter out people don't have pensions and annuity \n",
    "\n",
    "# probability of having a pension or annuity per bin?"
   ]
  },
  {
   "cell_type": "code",
   "execution_count": 595,
   "metadata": {},
   "outputs": [
    {
     "data": {
      "text/plain": [
       "<matplotlib.axes._subplots.AxesSubplot at 0x1a33542510>"
      ]
     },
     "execution_count": 595,
     "metadata": {},
     "output_type": "execute_result"
    },
    {
     "data": {
      "image/png": "[encoded data removed]",
      "text/plain": [
       "<matplotlib.figure.Figure at 0x1a3337ea10>"
      ]
     },
     "metadata": {},
     "output_type": "display_data"
    }
   ],
   "source": [
    "#Visualization 13: Distribution of ratio of spouse social security benefit to investor (only married investors)\n",
    "\n",
    "SS = df.social_security_benefit.dropna()\n",
    "spouseSS = df.spouse_social_security_benefit.dropna()\n",
    "\n",
    "sns.regplot(x=df.social_security_benefit, y = df.spouse_social_security_benefit, data=df, x_bins=10)\n",
    "\n",
    "\n",
    "# also accounting for single investors. this is incorrect. \n",
    "\n",
    "# calc ratio and plot histogram"
   ]
  },
  {
   "cell_type": "code",
   "execution_count": 137,
   "metadata": {},
   "outputs": [
    {
     "name": "stdout",
     "output_type": "stream",
     "text": [
      "('Ratio of non-zero balance to total:', 82.10880538418395)\n",
      "('Ratio of zero balance to total:', 17.89119461581604)\n"
     ]
    },
    {
     "data": {
      "image/png": "[encoded data removed]",
      "text/plain": [
       "<matplotlib.figure.Figure at 0x1a14e70710>"
      ]
     },
     "metadata": {},
     "output_type": "display_data"
    }
   ],
   "source": [
    "#Visualizations 14: Distribution of Sum of Advisable IRA Balance – unconditional\n",
    "\n",
    "# Roth IRA\n",
    "df.name_type_1.unique()\n",
    "roth_ira_1 = df.balance_1[df.name_type_1 == \"roth_ira\"]\n",
    "roth_ira_2 = df.balance_2[df.name_type_2 == \"roth_ira\"]\n",
    "roth_ira_3 = df.balance_3[df.name_type_3 == \"roth_ira\"]\n",
    "roth_ira_4 = df.balance_4[df.name_type_4 == \"roth_ira\"]\n",
    "roth_ira_5 = df.balance_5[df.name_type_5 == \"roth_ira\"]\n",
    "roth_ira_6 = df.balance_6[df.name_type_6 == \"roth_ira\"]\n",
    "roth_ira_7 = df.balance_7[df.name_type_7 == \"roth_ira\"]\n",
    "roth_ira_8 = df.balance_8[df.name_type_8 == \"roth_ira\"]\n",
    "roth_ira_9 = df.balance_9[df.name_type_9 == \"roth_ira\"]\n",
    "roth_ira_10 = df.balance_10[df.name_type_10 == \"roth_ira\"]\n",
    "roth_ira_11 = df.balance_11[df.name_type_11 == \"roth_ira\"]\n",
    "#traditional IRA\n",
    "traditional_ira_1 = df.balance_1[df.name_type_1 == \"traditional_ira\"]\n",
    "traditional_ira_2 = df.balance_2[df.name_type_2 == \"traditional_ira\"]\n",
    "traditional_ira_3 = df.balance_3[df.name_type_3 == \"traditional_ira\"]\n",
    "traditional_ira_4 = df.balance_4[df.name_type_4 == \"traditional_ira\"]\n",
    "traditional_ira_5 = df.balance_5[df.name_type_5 == \"traditional_ira\"]\n",
    "traditional_ira_6 = df.balance_6[df.name_type_6 == \"traditional_ira\"]\n",
    "traditional_ira_7 = df.balance_7[df.name_type_7 == \"traditional_ira\"]\n",
    "traditional_ira_8 = df.balance_8[df.name_type_8 == \"traditional_ira\"]\n",
    "traditional_ira_9 = df.balance_9[df.name_type_9 == \"traditional_ira\"]\n",
    "traditional_ira_10 = df.balance_10[df.name_type_10 == \"traditional_ira\"]\n",
    "traditional_ira_11 = df.balance_11[df.name_type_11 == \"traditional_ira\"]\n",
    "\n",
    "#Brokerage\n",
    "brokerage_1 = df.balance_1[df.name_type_1 == \"brokerage\"]\n",
    "brokerage_2 = df.balance_2[df.name_type_2 == \"brokerage\"]\n",
    "brokerage_3 = df.balance_3[df.name_type_3 == \"brokerage\"]\n",
    "brokerage_4 = df.balance_4[df.name_type_4 == \"brokerage\"]\n",
    "brokerage_5 = df.balance_5[df.name_type_5 == \"brokerage\"]\n",
    "brokerage_6 = df.balance_6[df.name_type_6 == \"brokerage\"]\n",
    "brokerage_7 = df.balance_7[df.name_type_7 == \"brokerage\"]\n",
    "brokerage_8 = df.balance_8[df.name_type_8 == \"brokerage\"]\n",
    "brokerage_9 = df.balance_9[df.name_type_9 == \"brokerage\"]\n",
    "brokerage_10 = df.balance_10[df.name_type_10 == \"brokerage\"]\n",
    "brokerage_11 = df.balance_11[df.name_type_11 == \"brokerage\"]\n",
    "\n",
    "\n",
    "IRA = [roth_ira_1, roth_ira_2, roth_ira_3, roth_ira_4, \n",
    "            roth_ira_5, roth_ira_6, roth_ira_7, roth_ira_8, \n",
    "            roth_ira_9, roth_ira_10, roth_ira_11,\n",
    "      traditional_ira_1, traditional_ira_2, traditional_ira_3, \n",
    "      traditional_ira_4, traditional_ira_5, traditional_ira_6, \n",
    "      traditional_ira_7, traditional_ira_8, traditional_ira_9, \n",
    "      traditional_ira_10, traditional_ira_11]\n",
    "\n",
    "\n",
    "Brokerage = [brokerage_1, brokerage_2, brokerage_3, brokerage_4, \n",
    "            brokerage_5, brokerage_6, brokerage_7, brokerage_8, \n",
    "            brokerage_9, brokerage_10, brokerage_11]\n",
    "\n",
    "\n",
    "\n",
    "\n",
    "# account balance must be greater than $0 \n",
    "iraAccounts = pd.DataFrame(pd.concat(IRA))\n",
    "iraAccounts.columns = ['ira_balance']\n",
    "cleanIRA = iraAccounts[iraAccounts.ira_balance > 1]\n",
    "sns.distplot(cleanIRA)\n",
    "\n",
    "\n",
    "# proportion of users with $0 vs non-zero balance\n",
    "dirtyIRA = iraAccounts[iraAccounts.ira_balance < 1]\n",
    "\n",
    "\n",
    "countClean = cleanIRA.shape[0]\n",
    "countDirty = dirtyIRA.shape[0]\n",
    "countAll = iraAccounts.shape[0]\n",
    "\n",
    "\n",
    "print('Ratio of non-zero balance to total:', (100*(np.true_divide(countClean, countAll))))\n",
    "print('Ratio of zero balance to total:', (100*(np.true_divide(countDirty, countAll))))\n",
    "\n",
    "# ratio of sum of balances to salary \n",
    "cleanIRAWSalary = cleanIRA.merge(df[['salary']], left_index=True, right_index=True)\n",
    "cleanIRAWSalaryRatio = pd.DataFrame(np.true_divide(cleanIRAWSalary.ira_balance, cleanIRAWSalary.salary))\n",
    "#sns.distplot(cleanIRAWSalaryRatio)\n",
    "\n",
    "\n",
    "# distribution per bin\n",
    "\n",
    "# account balance by marital status"
   ]
  },
  {
   "cell_type": "code",
   "execution_count": 384,
   "metadata": {},
   "outputs": [
    {
     "data": {
      "text/html": [
       "<div>\n",
       "<style scoped>\n",
       "    .dataframe tbody tr th:only-of-type {\n",
       "        vertical-align: middle;\n",
       "    }\n",
       "\n",
       "    .dataframe tbody tr th {\n",
       "        vertical-align: top;\n",
       "    }\n",
       "\n",
       "    .dataframe thead th {\n",
       "        text-align: right;\n",
       "    }\n",
       "</style>\n",
       "<table border=\"1\" class=\"dataframe\">\n",
       "  <thead>\n",
       "    <tr style=\"text-align: right;\">\n",
       "      <th></th>\n",
       "      <th>BalanceToSalaryRatio</th>\n",
       "    </tr>\n",
       "    <tr>\n",
       "      <th>name</th>\n",
       "      <th></th>\n",
       "    </tr>\n",
       "  </thead>\n",
       "  <tbody>\n",
       "    <tr>\n",
       "      <th>662</th>\n",
       "      <td>1.508924</td>\n",
       "    </tr>\n",
       "    <tr>\n",
       "      <th>663</th>\n",
       "      <td>0.467770</td>\n",
       "    </tr>\n",
       "    <tr>\n",
       "      <th>672</th>\n",
       "      <td>0.267642</td>\n",
       "    </tr>\n",
       "    <tr>\n",
       "      <th>672</th>\n",
       "      <td>0.533481</td>\n",
       "    </tr>\n",
       "    <tr>\n",
       "      <th>737</th>\n",
       "      <td>0.089453</td>\n",
       "    </tr>\n",
       "    <tr>\n",
       "      <th>743</th>\n",
       "      <td>1.188032</td>\n",
       "    </tr>\n",
       "    <tr>\n",
       "      <th>743</th>\n",
       "      <td>0.777328</td>\n",
       "    </tr>\n",
       "    <tr>\n",
       "      <th>743</th>\n",
       "      <td>8.754923</td>\n",
       "    </tr>\n",
       "    <tr>\n",
       "      <th>779</th>\n",
       "      <td>0.201994</td>\n",
       "    </tr>\n",
       "    <tr>\n",
       "      <th>779</th>\n",
       "      <td>0.154466</td>\n",
       "    </tr>\n",
       "    <tr>\n",
       "      <th>779</th>\n",
       "      <td>0.213876</td>\n",
       "    </tr>\n",
       "    <tr>\n",
       "      <th>779</th>\n",
       "      <td>0.122329</td>\n",
       "    </tr>\n",
       "    <tr>\n",
       "      <th>846</th>\n",
       "      <td>0.039743</td>\n",
       "    </tr>\n",
       "    <tr>\n",
       "      <th>851</th>\n",
       "      <td>2.349223</td>\n",
       "    </tr>\n",
       "    <tr>\n",
       "      <th>853</th>\n",
       "      <td>1.029210</td>\n",
       "    </tr>\n",
       "    <tr>\n",
       "      <th>1004</th>\n",
       "      <td>1.055904</td>\n",
       "    </tr>\n",
       "    <tr>\n",
       "      <th>1005</th>\n",
       "      <td>0.000000</td>\n",
       "    </tr>\n",
       "    <tr>\n",
       "      <th>1016</th>\n",
       "      <td>1.909570</td>\n",
       "    </tr>\n",
       "    <tr>\n",
       "      <th>1023</th>\n",
       "      <td>0.362863</td>\n",
       "    </tr>\n",
       "    <tr>\n",
       "      <th>1030</th>\n",
       "      <td>0.000000</td>\n",
       "    </tr>\n",
       "    <tr>\n",
       "      <th>1030</th>\n",
       "      <td>0.712395</td>\n",
       "    </tr>\n",
       "    <tr>\n",
       "      <th>1035</th>\n",
       "      <td>0.330560</td>\n",
       "    </tr>\n",
       "    <tr>\n",
       "      <th>1050</th>\n",
       "      <td>0.000000</td>\n",
       "    </tr>\n",
       "    <tr>\n",
       "      <th>1086</th>\n",
       "      <td>0.130321</td>\n",
       "    </tr>\n",
       "    <tr>\n",
       "      <th>1086</th>\n",
       "      <td>8.044714</td>\n",
       "    </tr>\n",
       "    <tr>\n",
       "      <th>1095</th>\n",
       "      <td>0.698245</td>\n",
       "    </tr>\n",
       "    <tr>\n",
       "      <th>1118</th>\n",
       "      <td>0.000000</td>\n",
       "    </tr>\n",
       "    <tr>\n",
       "      <th>1202</th>\n",
       "      <td>1.200416</td>\n",
       "    </tr>\n",
       "    <tr>\n",
       "      <th>1214</th>\n",
       "      <td>0.875662</td>\n",
       "    </tr>\n",
       "    <tr>\n",
       "      <th>1232</th>\n",
       "      <td>12.527928</td>\n",
       "    </tr>\n",
       "    <tr>\n",
       "      <th>...</th>\n",
       "      <td>...</td>\n",
       "    </tr>\n",
       "    <tr>\n",
       "      <th>3705</th>\n",
       "      <td>1.019112</td>\n",
       "    </tr>\n",
       "    <tr>\n",
       "      <th>3710</th>\n",
       "      <td>0.000000</td>\n",
       "    </tr>\n",
       "    <tr>\n",
       "      <th>3713</th>\n",
       "      <td>1.706218</td>\n",
       "    </tr>\n",
       "    <tr>\n",
       "      <th>3724</th>\n",
       "      <td>6.693858</td>\n",
       "    </tr>\n",
       "    <tr>\n",
       "      <th>3738</th>\n",
       "      <td>0.000000</td>\n",
       "    </tr>\n",
       "    <tr>\n",
       "      <th>3749</th>\n",
       "      <td>0.340677</td>\n",
       "    </tr>\n",
       "    <tr>\n",
       "      <th>3758</th>\n",
       "      <td>0.000000</td>\n",
       "    </tr>\n",
       "    <tr>\n",
       "      <th>3777</th>\n",
       "      <td>0.000000</td>\n",
       "    </tr>\n",
       "    <tr>\n",
       "      <th>3777</th>\n",
       "      <td>0.000000</td>\n",
       "    </tr>\n",
       "    <tr>\n",
       "      <th>3787</th>\n",
       "      <td>1.584645</td>\n",
       "    </tr>\n",
       "    <tr>\n",
       "      <th>3787</th>\n",
       "      <td>0.000000</td>\n",
       "    </tr>\n",
       "    <tr>\n",
       "      <th>3797</th>\n",
       "      <td>0.082325</td>\n",
       "    </tr>\n",
       "    <tr>\n",
       "      <th>3799</th>\n",
       "      <td>0.000000</td>\n",
       "    </tr>\n",
       "    <tr>\n",
       "      <th>3819</th>\n",
       "      <td>0.810290</td>\n",
       "    </tr>\n",
       "    <tr>\n",
       "      <th>3819</th>\n",
       "      <td>2.121937</td>\n",
       "    </tr>\n",
       "    <tr>\n",
       "      <th>3819</th>\n",
       "      <td>11.111111</td>\n",
       "    </tr>\n",
       "    <tr>\n",
       "      <th>3819</th>\n",
       "      <td>0.000000</td>\n",
       "    </tr>\n",
       "    <tr>\n",
       "      <th>3838</th>\n",
       "      <td>0.658287</td>\n",
       "    </tr>\n",
       "    <tr>\n",
       "      <th>3839</th>\n",
       "      <td>0.000000</td>\n",
       "    </tr>\n",
       "    <tr>\n",
       "      <th>3842</th>\n",
       "      <td>0.000000</td>\n",
       "    </tr>\n",
       "    <tr>\n",
       "      <th>3848</th>\n",
       "      <td>0.000000</td>\n",
       "    </tr>\n",
       "    <tr>\n",
       "      <th>3851</th>\n",
       "      <td>5.394476</td>\n",
       "    </tr>\n",
       "    <tr>\n",
       "      <th>3852</th>\n",
       "      <td>0.045536</td>\n",
       "    </tr>\n",
       "    <tr>\n",
       "      <th>3856</th>\n",
       "      <td>0.853570</td>\n",
       "    </tr>\n",
       "    <tr>\n",
       "      <th>3856</th>\n",
       "      <td>0.341428</td>\n",
       "    </tr>\n",
       "    <tr>\n",
       "      <th>3867</th>\n",
       "      <td>0.000000</td>\n",
       "    </tr>\n",
       "    <tr>\n",
       "      <th>3874</th>\n",
       "      <td>0.000000</td>\n",
       "    </tr>\n",
       "    <tr>\n",
       "      <th>3890</th>\n",
       "      <td>41.501017</td>\n",
       "    </tr>\n",
       "    <tr>\n",
       "      <th>3910</th>\n",
       "      <td>0.154248</td>\n",
       "    </tr>\n",
       "    <tr>\n",
       "      <th>3955</th>\n",
       "      <td>0.401903</td>\n",
       "    </tr>\n",
       "  </tbody>\n",
       "</table>\n",
       "<p>675 rows × 1 columns</p>\n",
       "</div>"
      ],
      "text/plain": [
       "      BalanceToSalaryRatio\n",
       "name                      \n",
       "662               1.508924\n",
       "663               0.467770\n",
       "672               0.267642\n",
       "672               0.533481\n",
       "737               0.089453\n",
       "743               1.188032\n",
       "743               0.777328\n",
       "743               8.754923\n",
       "779               0.201994\n",
       "779               0.154466\n",
       "779               0.213876\n",
       "779               0.122329\n",
       "846               0.039743\n",
       "851               2.349223\n",
       "853               1.029210\n",
       "1004              1.055904\n",
       "1005              0.000000\n",
       "1016              1.909570\n",
       "1023              0.362863\n",
       "1030              0.000000\n",
       "1030              0.712395\n",
       "1035              0.330560\n",
       "1050              0.000000\n",
       "1086              0.130321\n",
       "1086              8.044714\n",
       "1095              0.698245\n",
       "1118              0.000000\n",
       "1202              1.200416\n",
       "1214              0.875662\n",
       "1232             12.527928\n",
       "...                    ...\n",
       "3705              1.019112\n",
       "3710              0.000000\n",
       "3713              1.706218\n",
       "3724              6.693858\n",
       "3738              0.000000\n",
       "3749              0.340677\n",
       "3758              0.000000\n",
       "3777              0.000000\n",
       "3777              0.000000\n",
       "3787              1.584645\n",
       "3787              0.000000\n",
       "3797              0.082325\n",
       "3799              0.000000\n",
       "3819              0.810290\n",
       "3819              2.121937\n",
       "3819             11.111111\n",
       "3819              0.000000\n",
       "3838              0.658287\n",
       "3839              0.000000\n",
       "3842              0.000000\n",
       "3848              0.000000\n",
       "3851              5.394476\n",
       "3852              0.045536\n",
       "3856              0.853570\n",
       "3856              0.341428\n",
       "3867              0.000000\n",
       "3874              0.000000\n",
       "3890             41.501017\n",
       "3910              0.154248\n",
       "3955              0.401903\n",
       "\n",
       "[675 rows x 1 columns]"
      ]
     },
     "execution_count": 384,
     "metadata": {},
     "output_type": "execute_result"
    },
    {
     "data": {
      "image/png": "[encoded data removed]",
      "text/plain": [
       "<matplotlib.figure.Figure at 0x1a25282250>"
      ]
     },
     "metadata": {},
     "output_type": "display_data"
    }
   ],
   "source": [
    "# Visualization 15: Distribution of Sum of Advisable IRA Balance – conditional on marital status\n",
    "\n",
    "iradf = pd.concat(IRA)\n",
    "iradf = iradf.to_frame()\n",
    "iradf.columns = ['ira_balance']\n",
    "\n",
    "iraMarital = iradf.merge(df[['marital_status']], left_index=True, right_index=True)\n",
    "iraMarital\n",
    "\n",
    "singleIRA = iraMarital.ira_balance[iraMarital.marital_status == False]\n",
    "#singleIRA = singleIRA.to_frame()\n",
    "singleIRA.columns = ['ira_balance']\n",
    "#singleIRAwSalary = singleIRA.merge(df[['salary']], left_index=True, right_index=True)\n",
    "singleIRAwSalary.columns = ['BalanceToSalaryRatio']\n",
    "\n",
    "marriedIRA = iraMarital.ira_balance[iraMarital.marital_status == True]\n",
    "marriedIRA = marriedIRA.to_frame()\n",
    "marriedIRA.columns = ['ira_balance']\n",
    "marriedIRAwSalary = marriedIRA.merge(df[['salary']], left_index=True, right_index=True)\n",
    "\n",
    "singleIRA = singleIRA.to_frame()\n",
    "sns.distplot(singleIRAwSalary, hist=False, axlabel='IRA Balance Over Salary', label='Single')\n",
    "sns.distplot(marriedIRAwSalary, hist=False, label='Married')\n",
    "\n",
    "\n",
    "singleIRAwSalary\n",
    "\n",
    "# if married, combined salary \n",
    "# account balance must be greater than $0 \n",
    "# proportion of users with $0 vs non-zero balance\n"
   ]
  },
  {
   "cell_type": "code",
   "execution_count": 153,
   "metadata": {},
   "outputs": [
    {
     "ename": "NameError",
     "evalue": "name 'iradf' is not defined",
     "output_type": "error",
     "traceback": [
      "\u001b[0;31m---------------------------------------------------------------------------\u001b[0m",
      "\u001b[0;31mNameError\u001b[0m                                 Traceback (most recent call last)",
      "\u001b[0;32m<ipython-input-153-b576b872fbfa>\u001b[0m in \u001b[0;36m<module>\u001b[0;34m()\u001b[0m\n\u001b[1;32m      1\u001b[0m \u001b[0;31m# Visualization 16: Distribution of Sum of Advisable IRA Balance – conditional on age\u001b[0m\u001b[0;34m\u001b[0m\u001b[0;34m\u001b[0m\u001b[0m\n\u001b[1;32m      2\u001b[0m \u001b[0;34m\u001b[0m\u001b[0m\n\u001b[0;32m----> 3\u001b[0;31m \u001b[0miraAge\u001b[0m \u001b[0;34m=\u001b[0m \u001b[0miradf\u001b[0m\u001b[0;34m.\u001b[0m\u001b[0mmerge\u001b[0m\u001b[0;34m(\u001b[0m\u001b[0mdf\u001b[0m\u001b[0;34m[\u001b[0m\u001b[0;34m[\u001b[0m\u001b[0;34m'age'\u001b[0m\u001b[0;34m]\u001b[0m\u001b[0;34m]\u001b[0m\u001b[0;34m,\u001b[0m \u001b[0mleft_index\u001b[0m\u001b[0;34m=\u001b[0m\u001b[0mTrue\u001b[0m\u001b[0;34m,\u001b[0m \u001b[0mright_index\u001b[0m\u001b[0;34m=\u001b[0m\u001b[0mTrue\u001b[0m\u001b[0;34m)\u001b[0m\u001b[0;34m\u001b[0m\u001b[0m\n\u001b[0m\u001b[1;32m      4\u001b[0m \u001b[0;34m\u001b[0m\u001b[0m\n\u001b[1;32m      5\u001b[0m \u001b[0;31m# exclude ira balance $0\u001b[0m\u001b[0;34m\u001b[0m\u001b[0;34m\u001b[0m\u001b[0m\n",
      "\u001b[0;31mNameError\u001b[0m: name 'iradf' is not defined"
     ]
    }
   ],
   "source": [
    "# Visualization 16: Distribution of Sum of Advisable IRA Balance – conditional on age\n",
    "\n",
    "iraAge = iradf.merge(df[['age']], left_index=True, right_index=True)\n",
    "\n",
    "# exclude ira balance $0\n",
    "cleanIraAge = iraAge[iraAge.ira_balance > 1]\n",
    "# y axis to ira_balance/salary\n",
    "iraAgeSalary = cleanIraAge.merge(df[['salary']], left_index=True, right_index=True)\n",
    "ira_Salary = (iraAgeSalary.ira_balance/iraAgeSalary.salary) \n",
    "ira_Salary = pd.DataFrame(ira_Salary)\n",
    "ira_Salary.columns = ['ira_Salary']\n",
    "ira_Salary[np.isfinite(ira_Salary['ira_Salary'])]\n",
    "\n",
    "\n",
    "ira_Salary_Age = ira_Salary.merge(df[['age']], left_index=True, right_index=True)\n",
    "# removing outliers\n",
    "\n",
    "\n",
    "#plotting\n",
    "sns.regplot(x=\"age\", y=\"ira_Salary\", data=clean_ira_Salary_Age, \n",
    "            marker=\"+\", x_bins=50, x_estimator=np.mean, fit_reg=True, order=3)\n",
    "\n",
    "\n",
    "# how does np.mean work with x_estimator with more than one bin"
   ]
  },
  {
   "cell_type": "code",
   "execution_count": 152,
   "metadata": {},
   "outputs": [
    {
     "ename": "NameError",
     "evalue": "name 'iraOverSalary' is not defined",
     "output_type": "error",
     "traceback": [
      "\u001b[0;31m---------------------------------------------------------------------------\u001b[0m",
      "\u001b[0;31mNameError\u001b[0m                                 Traceback (most recent call last)",
      "\u001b[0;32m<ipython-input-152-89dc8331e955>\u001b[0m in \u001b[0;36m<module>\u001b[0;34m()\u001b[0m\n\u001b[1;32m      3\u001b[0m \u001b[0;31m#iraOverSalary = pd.DataFrame(iraSalary.ira_balance/iraSalary.salary)\u001b[0m\u001b[0;34m\u001b[0m\u001b[0;34m\u001b[0m\u001b[0m\n\u001b[1;32m      4\u001b[0m \u001b[0;31m#iraOverSalary.columns = ['iraOverSalary']\u001b[0m\u001b[0;34m\u001b[0m\u001b[0;34m\u001b[0m\u001b[0m\n\u001b[0;32m----> 5\u001b[0;31m \u001b[0miraSalary\u001b[0m \u001b[0;34m=\u001b[0m \u001b[0miraOverSalary\u001b[0m\u001b[0;34m.\u001b[0m\u001b[0mmerge\u001b[0m\u001b[0;34m(\u001b[0m\u001b[0mdf\u001b[0m\u001b[0;34m[\u001b[0m\u001b[0;34m[\u001b[0m\u001b[0;34m'salary'\u001b[0m\u001b[0;34m]\u001b[0m\u001b[0;34m]\u001b[0m\u001b[0;34m,\u001b[0m \u001b[0mleft_index\u001b[0m\u001b[0;34m=\u001b[0m\u001b[0mTrue\u001b[0m\u001b[0;34m,\u001b[0m \u001b[0mright_index\u001b[0m\u001b[0;34m=\u001b[0m\u001b[0mTrue\u001b[0m\u001b[0;34m)\u001b[0m\u001b[0;34m\u001b[0m\u001b[0m\n\u001b[0m\u001b[1;32m      6\u001b[0m \u001b[0;34m\u001b[0m\u001b[0m\n\u001b[1;32m      7\u001b[0m \u001b[0;34m\u001b[0m\u001b[0m\n",
      "\u001b[0;31mNameError\u001b[0m: name 'iraOverSalary' is not defined"
     ]
    }
   ],
   "source": [
    "# Visualization 17: Distribution of Sum of Advisable IRA Balance – conditional on salary\n",
    "\n",
    "#iraOverSalary = pd.DataFrame(iraSalary.ira_balance/iraSalary.salary)\n",
    "#iraOverSalary.columns = ['iraOverSalary']\n",
    "iraSalary = iraOverSalary.merge(df[['salary']], left_index=True, right_index=True)\n",
    "\n",
    "\n",
    "\n",
    "\n",
    "# y axis to ira_balance/salary\n",
    "iraOverSalary[np.isfinite(iraOverSalary['iraOverSalary'])]\n",
    "sns.regplot(x=\"salary\", y=\"iraOverSalary\", data=iraSalary, marker=\"+\", x_bins=10, x_estimator=np.mean)\n",
    "\n",
    "\n",
    "\n",
    "# remove outliers. iraOVerSalary should not be more than 1 \n"
   ]
  },
  {
   "cell_type": "code",
   "execution_count": 532,
   "metadata": {},
   "outputs": [
    {
     "data": {
      "text/plain": [
       "<matplotlib.axes._subplots.AxesSubplot at 0x1a309a5350>"
      ]
     },
     "execution_count": 532,
     "metadata": {},
     "output_type": "execute_result"
    },
    {
     "data": {
      "image/png": "[encoded data removed]",
      "text/plain": [
       "<matplotlib.figure.Figure at 0x1a30bf1990>"
      ]
     },
     "metadata": {},
     "output_type": "display_data"
    }
   ],
   "source": [
    "# Visualization 18: Distribution of Sum of Advisable Taxable Brokerage Account Balance – unconditional\n",
    "data = pd.concat(Brokerage)\n",
    "filtered = data[data!=0]\n",
    "sns.distplot(filtered, axlabel='Brokerage Balance', hist=False, fit=norm)"
   ]
  },
  {
   "cell_type": "code",
   "execution_count": 536,
   "metadata": {},
   "outputs": [
    {
     "data": {
      "text/plain": [
       "<matplotlib.axes._subplots.AxesSubplot at 0x1a31109fd0>"
      ]
     },
     "execution_count": 536,
     "metadata": {},
     "output_type": "execute_result"
    },
    {
     "data": {
      "image/png": "[encoded data removed]",
      "text/plain": [
       "<matplotlib.figure.Figure at 0x1a31169b90>"
      ]
     },
     "metadata": {},
     "output_type": "display_data"
    }
   ],
   "source": [
    "# Visualization 19: Distribution of Sum of Advisable Taxable Brokerage Balance – conditional on marital status\n",
    "\n",
    "brokeragedf = pd.concat(Brokerage)\n",
    "brokeragedf = brokeragedf.to_frame()\n",
    "brokeragedf.columns = ['brokerage_balance']\n",
    "\n",
    "brokerageMarital = brokeragedf.merge(df[['marital_status']], left_index=True, right_index=True)\n",
    "brokerageMarital\n",
    "\n",
    "singleBrokerage = brokerageMarital.brokerage_balance[brokerageMarital.marital_status == False]\n",
    "marriedBrokerage = brokerageMarital.brokerage_balance[brokerageMarital.marital_status == True]\n",
    "\n",
    "singleBrokerage = singleBrokerage[singleBrokerage!=0]\n",
    "marriedBrokerage = marriedBrokerage[marriedBrokerage!=0]\n",
    "sns.distplot(singleBrokerage, hist=False)\n",
    "sns.distplot(marriedBrokerage, hist=False)"
   ]
  },
  {
   "cell_type": "code",
   "execution_count": 328,
   "metadata": {},
   "outputs": [
    {
     "data": {
      "text/plain": [
       "<matplotlib.axes._subplots.AxesSubplot at 0x1a19f786d0>"
      ]
     },
     "execution_count": 328,
     "metadata": {},
     "output_type": "execute_result"
    },
    {
     "data": {
      "image/png": "[encoded data removed]",
      "text/plain": [
       "<matplotlib.figure.Figure at 0x1a1b4c0390>"
      ]
     },
     "metadata": {},
     "output_type": "display_data"
    }
   ],
   "source": [
    "# Visualization 20: Distribution of Sum of Taxable Brokerage Balance – conditional on age\n",
    "brokerageAge = brokeragedf.merge(df[['age']], left_index=True, right_index=True)\n",
    "sns.regplot(x=\"age\", y=\"brokerage_balance\", data=brokerageAge, color=\"b\", marker=\"+\")"
   ]
  },
  {
   "cell_type": "code",
   "execution_count": 329,
   "metadata": {},
   "outputs": [
    {
     "data": {
      "text/plain": [
       "<matplotlib.axes._subplots.AxesSubplot at 0x1a1a0365d0>"
      ]
     },
     "execution_count": 329,
     "metadata": {},
     "output_type": "execute_result"
    },
    {
     "data": {
      "image/png": "[encoded data removed]",
      "text/plain": [
       "<matplotlib.figure.Figure at 0x1a19eba850>"
      ]
     },
     "metadata": {},
     "output_type": "display_data"
    }
   ],
   "source": [
    "# Visualization 21: Distribution of Sum of Taxable Brokerage Balance – conditional on salary\n",
    "brokerageSalary = brokeragedf.merge(df[['salary']], left_index=True, right_index=True)\n",
    "sns.regplot(x=\"salary\", y=\"brokerage_balance\", data=brokerageSalary, color=\"g\", marker=\"+\")"
   ]
  },
  {
   "cell_type": "code",
   "execution_count": 366,
   "metadata": {},
   "outputs": [
    {
     "data": {
      "text/plain": [
       "<matplotlib.axes._subplots.AxesSubplot at 0x1a262ef3d0>"
      ]
     },
     "execution_count": 366,
     "metadata": {},
     "output_type": "execute_result"
    },
    {
     "data": {
      "image/png": "[encoded data removed]",
      "text/plain": [
       "<matplotlib.figure.Figure at 0x1a1aa15310>"
      ]
     },
     "metadata": {},
     "output_type": "display_data"
    }
   ],
   "source": [
    "# Visualization 22: Distribution of Sum of Other Account Balance – unconditional\n",
    "\n",
    "# 403b\n",
    "account_1_403b = df.balance_1[df.name_type_1 == \"403b\"]\n",
    "account_2_403b = df.balance_2[df.name_type_2 == \"403b\"]\n",
    "account_3_403b = df.balance_3[df.name_type_3 == \"403b\"]\n",
    "account_4_403b = df.balance_4[df.name_type_4 == \"403b\"]\n",
    "account_5_403b = df.balance_5[df.name_type_5 == \"403b\"]\n",
    "account_6_403b = df.balance_6[df.name_type_6 == \"403b\"]\n",
    "account_7_403b = df.balance_7[df.name_type_7 == \"403b\"]\n",
    "account_8_403b = df.balance_8[df.name_type_8 == \"403b\"]\n",
    "account_9_403b = df.balance_9[df.name_type_9 == \"403b\"]\n",
    "account_10_403b = df.balance_9[df.name_type_10 == \"403b\"]\n",
    "account_11_403b = df.balance_9[df.name_type_11 == \"403b\"]\n",
    "\n",
    "#account_403b = [account_1_403b, account_2_403b, account_3_403b, account_4_403b, \n",
    "#            account_5_403b, account_6_403b, account_7_403b, account_8_403b, \n",
    "#            account_9_403b, account_10_403b, account_11_403b]\n",
    "#sns.distplot(pd.concat(account_403b))\n",
    "\n",
    "# 401k\n",
    "account_1_401k = df.balance_1[df.name_type_1 == \"401k\"]\n",
    "account_2_401k = df.balance_2[df.name_type_2 == \"401k\"]\n",
    "account_3_401k = df.balance_3[df.name_type_3 == \"401k\"]\n",
    "account_4_401k = df.balance_4[df.name_type_4 == \"401k\"]\n",
    "account_5_401k = df.balance_5[df.name_type_5 == \"401k\"]\n",
    "account_6_401k = df.balance_6[df.name_type_6 == \"401k\"]\n",
    "account_7_401k = df.balance_7[df.name_type_7 == \"401k\"]\n",
    "account_8_401k = df.balance_8[df.name_type_8 == \"401k\"]\n",
    "account_9_401k = df.balance_9[df.name_type_9 == \"401k\"]\n",
    "account_10_401k = df.balance_9[df.name_type_10 == \"401k\"]\n",
    "account_11_401k = df.balance_9[df.name_type_11 == \"401k\"]\n",
    "\n",
    "#account_401k = [account_1_401k, account_2_401k, account_3_401k, account_4_401k, \n",
    "#            account_5_401k, account_6_401k, account_7_401k, account_8_401k, \n",
    "#            account_9_401k, account_10_401k, account_11_401k]\n",
    "\n",
    "# non_qualified_defined_contribution\n",
    "account_1_nqdc = df.balance_1[df.name_type_1 == \"non_qualified_defined_contribution\"]\n",
    "account_2_nqdc = df.balance_2[df.name_type_2 == \"non_qualified_defined_contribution\"]\n",
    "account_3_nqdc = df.balance_3[df.name_type_3 == \"non_qualified_defined_contribution\"]\n",
    "account_4_nqdc = df.balance_4[df.name_type_4 == \"non_qualified_defined_contribution\"]\n",
    "account_5_nqdc = df.balance_5[df.name_type_5 == \"non_qualified_defined_contribution\"]\n",
    "account_6_nqdc = df.balance_6[df.name_type_6 == \"non_qualified_defined_contribution\"]\n",
    "account_7_nqdc = df.balance_7[df.name_type_7 == \"non_qualified_defined_contribution\"]\n",
    "account_8_nqdc = df.balance_8[df.name_type_8 == \"non_qualified_defined_contribution\"]\n",
    "account_9_nqdc = df.balance_9[df.name_type_9 == \"non_qualified_defined_contribution\"]\n",
    "account_10_nqdc = df.balance_9[df.name_type_10 == \"non_qualified_defined_contribution\"]\n",
    "account_11_nqdc = df.balance_9[df.name_type_11 == \"non_qualified_defined_contribution\"]\n",
    "\n",
    "#account_nqdc = [account_1_nqdc, account_2_nqdc, account_3_nqdc, account_4_nqdc, \n",
    "#            account_5_nqdc, account_6_nqdc, account_7_nqdc, account_8_nqdc, \n",
    "#            account_9_nqdc, account_10_nqdc, account_11_nqdc]\n",
    "\n",
    "# profit_sharing\n",
    "account_1_ps = df.balance_1[df.name_type_1 == \"profit_sharing\"]\n",
    "account_2_ps = df.balance_2[df.name_type_2 == \"profit_sharing\"]\n",
    "account_3_ps = df.balance_3[df.name_type_3 == \"profit_sharing\"]\n",
    "account_4_ps = df.balance_4[df.name_type_4 == \"profit_sharing\"]\n",
    "account_5_ps = df.balance_5[df.name_type_5 == \"profit_sharing\"]\n",
    "account_6_ps = df.balance_6[df.name_type_6 == \"profit_sharing\"]\n",
    "account_7_ps = df.balance_7[df.name_type_7 == \"profit_sharing\"]\n",
    "account_8_ps = df.balance_8[df.name_type_8 == \"profit_sharing\"]\n",
    "account_9_ps = df.balance_9[df.name_type_9 == \"profit_sharing\"]\n",
    "account_10_ps = df.balance_9[df.name_type_10 == \"profit_sharing\"]\n",
    "account_11_ps = df.balance_9[df.name_type_11 == \"profit_sharing\"]\n",
    "\n",
    "#account_ps = [account_1_ps, account_2_ps, account_3_ps, account_4_ps, \n",
    "#            account_5_ps, account_6_ps, account_7_ps, account_8_ps, \n",
    "#            account_9_ps, account_10_ps, account_11_ps]\n",
    "\n",
    "# 401a\n",
    "account_1_401a = df.balance_1[df.name_type_1 == \"401a_money_purchase\"]\n",
    "account_2_401a = df.balance_2[df.name_type_2 == \"401a_money_purchase\"]\n",
    "account_3_401a = df.balance_3[df.name_type_3 == \"401a_money_purchase\"]\n",
    "account_4_401a = df.balance_4[df.name_type_4 == \"401a_money_purchase\"]\n",
    "account_5_401a = df.balance_5[df.name_type_5 == \"401a_money_purchase\"]\n",
    "account_6_401a = df.balance_6[df.name_type_6 == \"401a_money_purchase\"]\n",
    "account_7_401a = df.balance_7[df.name_type_7 == \"401a_money_purchase\"]\n",
    "account_8_401a = df.balance_8[df.name_type_8 == \"401a_money_purchase\"]\n",
    "account_9_401a = df.balance_9[df.name_type_9 == \"401a_money_purchase\"]\n",
    "account_10_401a = df.balance_9[df.name_type_10 == \"401a_money_purchase\"]\n",
    "account_11_401a = df.balance_9[df.name_type_11 == \"401a_money_purchase\"]\n",
    "\n",
    "#account_401a = [account_1_401a, account_2_401a, account_3_401a, account_4_401a, \n",
    "#            account_5_401a, account_6_401a, account_7_401a, account_8_401a, \n",
    "#            account_9_401a, account_10_401a, account_11_401a]\n",
    "\n",
    "# 457b\n",
    "account_1_457b = df.balance_1[df.name_type_1 == \"457b\"]\n",
    "account_2_457b = df.balance_2[df.name_type_2 == \"457b\"]\n",
    "account_3_457b = df.balance_3[df.name_type_3 == \"457b\"]\n",
    "account_4_457b = df.balance_4[df.name_type_4 == \"457b\"]\n",
    "account_5_457b = df.balance_5[df.name_type_5 == \"457b\"]\n",
    "account_6_457b = df.balance_6[df.name_type_6 == \"457b\"]\n",
    "account_7_457b = df.balance_7[df.name_type_7 == \"457b\"]\n",
    "account_8_457b = df.balance_8[df.name_type_8 == \"457b\"]\n",
    "account_9_457b = df.balance_9[df.name_type_9 == \"457b\"]\n",
    "account_10_457b = df.balance_9[df.name_type_10 == \"457b\"]\n",
    "account_11_457b = df.balance_9[df.name_type_11 == \"457b\"]\n",
    "\n",
    "#account_457b = [account_1_457b, account_2_457b, account_3_457b, account_4_457b, \n",
    "#            account_5_457b, account_6_457b, account_7_457b, account_8_457b, \n",
    "#            account_9_457b, account_10_457b, account_11_457b]\n",
    "\n",
    "# 457b_government\n",
    "account_1_457b_gov = df.balance_1[df.name_type_1 == \"457b_government\"]\n",
    "account_2_457b_gov = df.balance_2[df.name_type_2 == \"457b_government\"]\n",
    "account_3_457b_gov = df.balance_3[df.name_type_3 == \"457b_government\"]\n",
    "account_4_457b_gov = df.balance_4[df.name_type_4 == \"457b_government\"]\n",
    "account_5_457b_gov = df.balance_5[df.name_type_5 == \"457b_government\"]\n",
    "account_6_457b_gov = df.balance_6[df.name_type_6 == \"457b_government\"]\n",
    "account_7_457b_gov = df.balance_7[df.name_type_7 == \"457b_government\"]\n",
    "account_8_457b_gov = df.balance_8[df.name_type_8 == \"457b_government\"]\n",
    "account_9_457b_gov = df.balance_9[df.name_type_9 == \"457b_government\"]\n",
    "account_10_457b_gov = df.balance_9[df.name_type_10 == \"457b_government\"]\n",
    "account_11_457b_gov = df.balance_9[df.name_type_11 == \"457b_government\"]\n",
    "\n",
    "#account_457b_gov = [account_1_457b_gov, account_2_457b_gov, \n",
    "#            account_3_457b_gov, account_4_457b_gov, \n",
    "#            account_5_457b_gov, account_6_457b_gov, \n",
    "#            account_7_457b_gov, account_8_457b_gov, \n",
    "#            account_9_457b_gov, account_10_457b_gov, \n",
    "#            account_11_457b_gov]\n",
    "\n",
    "\n",
    "# 457b_non_profit\n",
    "account_1_457b_np = df.balance_1[df.name_type_1 == \"457b_non_profit\"]\n",
    "account_2_457b_np = df.balance_2[df.name_type_2 == \"457b_non_profit\"]\n",
    "account_3_457b_np = df.balance_3[df.name_type_3 == \"457b_non_profit\"]\n",
    "account_4_457b_np = df.balance_4[df.name_type_4 == \"457b_non_profit\"]\n",
    "account_5_457b_np = df.balance_5[df.name_type_5 == \"457b_non_profit\"]\n",
    "account_6_457b_np = df.balance_6[df.name_type_6 == \"457b_non_profit\"]\n",
    "account_7_457b_np = df.balance_7[df.name_type_7 == \"457b_non_profit\"]\n",
    "account_8_457b_np = df.balance_8[df.name_type_8 == \"457b_non_profit\"]\n",
    "account_9_457b_np = df.balance_9[df.name_type_9 == \"457b_non_profit\"]\n",
    "account_10_457b_np = df.balance_9[df.name_type_10 == \"457b_non_profit\"]\n",
    "account_11_457b_np = df.balance_9[df.name_type_11 == \"457b_non_profit\"]\n",
    "\n",
    "#account_457b_np = [account_1_457b_np, account_2_457b_np, \n",
    "#            account_3_457b_np, account_4_457b_np, \n",
    "#            account_5_457b_np, account_6_457b_np, \n",
    "#            account_7_457b_np, account_8_457b_np, \n",
    "#            account_9_457b_np, account_10_457b_np, \n",
    "#            account_11_457b_np]\n",
    "\n",
    "\n",
    "# esop\n",
    "account_1_esop = df.balance_1[df.name_type_1 == \"esop\"]\n",
    "account_2_esop = df.balance_2[df.name_type_2 == \"esop\"]\n",
    "account_3_esop = df.balance_3[df.name_type_3 == \"esop\"]\n",
    "account_4_esop = df.balance_4[df.name_type_4 == \"esop\"]\n",
    "account_5_esop = df.balance_5[df.name_type_5 == \"esop\"]\n",
    "account_6_esop = df.balance_6[df.name_type_6 == \"esop\"]\n",
    "account_7_esop = df.balance_7[df.name_type_7 == \"esop\"]\n",
    "account_8_esop = df.balance_8[df.name_type_8 == \"esop\"]\n",
    "account_9_esop = df.balance_9[df.name_type_9 == \"esop\"]\n",
    "account_10_esop = df.balance_9[df.name_type_10 == \"esop\"]\n",
    "account_11_esop = df.balance_9[df.name_type_11 == \"esop\"]\n",
    "\n",
    "#account_esop = [account_1_esop, account_2_esop, account_3_esop, account_4_esop, \n",
    "#            account_5_esop, account_6_esop, account_7_esop, account_8_esop, \n",
    "#            account_9_esop, account_10_esop, account_11_esop]\n",
    "\n",
    "# checking\n",
    "account_1_checking = df.balance_1[df.name_type_1 == \"checking\"]\n",
    "account_2_checking = df.balance_2[df.name_type_2 == \"checking\"]\n",
    "account_3_checking = df.balance_3[df.name_type_3 == \"checking\"]\n",
    "account_4_checking = df.balance_4[df.name_type_4 == \"checking\"]\n",
    "account_5_checking = df.balance_5[df.name_type_5 == \"checking\"]\n",
    "account_6_checking = df.balance_6[df.name_type_6 == \"checking\"]\n",
    "account_7_checking = df.balance_7[df.name_type_7 == \"checking\"]\n",
    "account_8_checking = df.balance_8[df.name_type_8 == \"checking\"]\n",
    "account_9_checking = df.balance_9[df.name_type_9 == \"checking\"]\n",
    "account_10_checking = df.balance_9[df.name_type_10 == \"checking\"]\n",
    "account_11_checking = df.balance_9[df.name_type_11 == \"checking\"]\n",
    "\n",
    "#account_checking = [account_1_checking, account_2_checking, account_3_checking, \n",
    "#            account_4_checking, account_5_checking, account_6_checking, \n",
    "#            account_7_checking, account_8_checking, \n",
    "#            account_9_checking, account_10_checking, \n",
    "#            account_11_checking]\n",
    "\n",
    "\n",
    "# thrift_savings_plan\n",
    "account_1_tsp = df.balance_1[df.name_type_1 == \"thrift_savings_plan\"]\n",
    "account_2_tsp = df.balance_2[df.name_type_2 == \"thrift_savings_plan\"]\n",
    "account_3_tsp = df.balance_3[df.name_type_3 == \"thrift_savings_plan\"]\n",
    "account_4_tsp = df.balance_4[df.name_type_4 == \"thrift_savings_plan\"]\n",
    "account_5_tsp = df.balance_5[df.name_type_5 == \"thrift_savings_plan\"]\n",
    "account_6_tsp = df.balance_6[df.name_type_6 == \"thrift_savings_plan\"]\n",
    "account_7_tsp = df.balance_7[df.name_type_7 == \"thrift_savings_plan\"]\n",
    "account_8_tsp = df.balance_8[df.name_type_8 == \"thrift_savings_plan\"]\n",
    "account_9_tsp = df.balance_9[df.name_type_9 == \"thrift_savings_plan\"]\n",
    "account_10_tsp = df.balance_9[df.name_type_10 == \"thrift_savings_plan\"]\n",
    "account_11_tsp = df.balance_9[df.name_type_11 == \"thrift_savings_plan\"]\n",
    "\n",
    "#account_tsp = [account_1_tsp, account_2_tsp, account_3_tsp, account_4_tsp, \n",
    "#            account_5_tsp, account_6_tsp, account_7_tsp, account_8_tsp, \n",
    "#            account_9_tsp, account_10_tsp, account_11_tsp]\n",
    "\n",
    "\n",
    "#other_accounts = [account_403b, account_401k, account_nqdc, account_ps,\n",
    "#                 account_401a, account_457b, account_457b_gov, account_457b_np,\n",
    "#                 account_esop, account_checking, account_tsp]\n",
    "\n",
    "\n",
    "other_accounts = [\n",
    "    #403b\n",
    "    account_1_403b, account_2_403b, account_3_403b, account_4_403b, \n",
    "    account_5_403b, account_6_403b, account_7_403b, account_8_403b, \n",
    "    account_9_403b, account_10_403b, account_11_403b,\n",
    "    \n",
    "    #401k\n",
    "    account_1_401k, account_2_401k, account_3_401k, account_4_401k, \n",
    "    account_5_401k, account_6_401k, account_7_401k, account_8_401k, \n",
    "    account_9_401k, account_10_401k, account_11_401k,\n",
    "    \n",
    "    #nqdc\n",
    "    account_1_nqdc, account_2_nqdc, account_3_nqdc, account_4_nqdc, \n",
    "    account_5_nqdc, account_6_nqdc, account_7_nqdc, account_8_nqdc, \n",
    "    account_9_nqdc, account_10_nqdc, account_11_nqdc,\n",
    "    \n",
    "    #ps\n",
    "    account_1_ps, account_2_ps, account_3_ps, account_4_ps, \n",
    "    account_5_ps, account_6_ps, account_7_ps, account_8_ps, \n",
    "    account_9_ps, account_10_ps, account_11_ps,\n",
    "    \n",
    "    #401a\n",
    "    account_1_401a, account_2_401a, account_3_401a, account_4_401a, \n",
    "    account_5_401a, account_6_401a, account_7_401a, account_8_401a, \n",
    "    account_9_401a, account_10_401a, account_11_401a,\n",
    "    \n",
    "    #457b\n",
    "    account_1_457b, account_2_457b, account_3_457b, account_4_457b, \n",
    "    account_5_457b, account_6_457b, account_7_457b, account_8_457b, \n",
    "    account_9_457b, account_10_457b, account_11_457b,\n",
    "    \n",
    "    #457b_gov\n",
    "    account_1_457b_gov, account_2_457b_gov, \n",
    "    account_3_457b_gov, account_4_457b_gov, \n",
    "    account_5_457b_gov, account_6_457b_gov, \n",
    "    account_7_457b_gov, account_8_457b_gov, \n",
    "    account_9_457b_gov, account_10_457b_gov, \n",
    "    account_11_457b_gov,\n",
    "    \n",
    "    #457b_np\n",
    "    account_1_457b_np, account_2_457b_np, \n",
    "    account_3_457b_np, account_4_457b_np, \n",
    "    account_5_457b_np, account_6_457b_np, \n",
    "    account_7_457b_np, account_8_457b_np, \n",
    "    account_9_457b_np, account_10_457b_np, \n",
    "    account_11_457b_np,\n",
    "    \n",
    "    #esop\n",
    "    account_1_esop, account_2_esop, account_3_esop, account_4_esop, \n",
    "    account_5_esop, account_6_esop, account_7_esop, account_8_esop, \n",
    "    account_9_esop, account_10_esop, account_11_esop,\n",
    "    \n",
    "    #checking\n",
    "    account_1_checking, account_2_checking, account_3_checking, \n",
    "    account_4_checking, account_5_checking, account_6_checking, \n",
    "    account_7_checking, account_8_checking, \n",
    "    account_9_checking, account_10_checking, \n",
    "    account_11_checking,\n",
    "    \n",
    "    #tsp\n",
    "    account_1_tsp, account_2_tsp, account_3_tsp, account_4_tsp, \n",
    "    account_5_tsp, account_6_tsp, account_7_tsp, account_8_tsp, \n",
    "    account_9_tsp, account_10_tsp, account_11_tsp\n",
    "\n",
    "]\n",
    "\n",
    "sns.distplot(pd.concat(other_accounts))\n"
   ]
  },
  {
   "cell_type": "code",
   "execution_count": 369,
   "metadata": {},
   "outputs": [
    {
     "data": {
      "text/plain": [
       "<matplotlib.axes._subplots.AxesSubplot at 0x1a25bba210>"
      ]
     },
     "execution_count": 369,
     "metadata": {},
     "output_type": "execute_result"
    },
    {
     "data": {
      "image/png": "[encoded data removed]",
      "text/plain": [
       "<matplotlib.figure.Figure at 0x1a1ada9f90>"
      ]
     },
     "metadata": {},
     "output_type": "display_data"
    }
   ],
   "source": [
    "# Visualization 23: Distribution of Sum of Other Account Balance – conditional on marital status\n",
    "\n",
    "otheraccountsdf = pd.concat(other_accounts)\n",
    "otheraccountsdf = otheraccountsdf.to_frame()\n",
    "otheraccountsdf.columns = ['other_accounts_balance']\n",
    "\n",
    "otherAccountsMarital = otheraccountsdf.merge(df[['marital_status']], left_index=True, right_index=True)\n",
    "otherAccountsMarital\n",
    "\n",
    "singleOtherAccounts = otherAccountsMarital.other_accounts_balance[otherAccountsMarital.marital_status == False]\n",
    "marriedOtherAccounts = otherAccountsMarital.other_accounts_balance[otherAccountsMarital.marital_status == True]\n",
    "\n",
    "#blue\n",
    "sns.distplot(singleOtherAccounts)\n",
    "#yellow\n",
    "sns.distplot(marriedOtherAccounts)"
   ]
  },
  {
   "cell_type": "code",
   "execution_count": 371,
   "metadata": {},
   "outputs": [
    {
     "data": {
      "text/plain": [
       "<matplotlib.axes._subplots.AxesSubplot at 0x1a17bb3990>"
      ]
     },
     "execution_count": 371,
     "metadata": {},
     "output_type": "execute_result"
    },
    {
     "data": {
      "image/png": "[encoded data removed]",
      "text/plain": [
       "<matplotlib.figure.Figure at 0x1a25ced310>"
      ]
     },
     "metadata": {},
     "output_type": "display_data"
    }
   ],
   "source": [
    "# Visualization 24: Distribution of Sum of Other Account Balance – conditional on age\n",
    "otherAccountsAge = otheraccountsdf.merge(df[['age']], left_index=True, right_index=True)\n",
    "sns.regplot(x=\"age\", y=\"other_accounts_balance\", data=otherAccountsAge, color=\"b\", marker=\"+\")"
   ]
  },
  {
   "cell_type": "code",
   "execution_count": 372,
   "metadata": {},
   "outputs": [
    {
     "data": {
      "text/plain": [
       "<matplotlib.axes._subplots.AxesSubplot at 0x1a25eb4cd0>"
      ]
     },
     "execution_count": 372,
     "metadata": {},
     "output_type": "execute_result"
    },
    {
     "data": {
      "image/png": "[encoded data removed]",
      "text/plain": [
       "<matplotlib.figure.Figure at 0x1a25ddced0>"
      ]
     },
     "metadata": {},
     "output_type": "display_data"
    }
   ],
   "source": [
    "# Visualization 25: Distribution of Sum of Other Account Balance – conditional on salary\n",
    "otherAccountsSalary = otheraccountsdf.merge(df[['salary']], left_index=True, right_index=True)\n",
    "sns.regplot(x=\"salary\", y=\"other_accounts_balance\", data=otherAccountsSalary, color=\"g\", marker=\"+\")"
   ]
  },
  {
   "cell_type": "code",
   "execution_count": 21,
   "metadata": {},
   "outputs": [
    {
     "data": {
      "text/plain": [
       "[(60, 72)]"
      ]
     },
     "execution_count": 21,
     "metadata": {},
     "output_type": "execute_result"
    },
    {
     "data": {
      "image/png": "[encoded data removed]",
      "text/plain": [
       "<matplotlib.figure.Figure at 0x1a1823f850>"
      ]
     },
     "metadata": {},
     "output_type": "display_data"
    }
   ],
   "source": [
    "# new visualization: desired retirement age conditional on salary\n",
    "\n",
    "g = sns.kdeplot(df.retirement_age, df.salary, shade=True, cbar=True)\n",
    "g.set(ylim=(0, 150000))\n",
    "g.set(xlim=(60, 72))"
   ]
  },
  {
   "cell_type": "code",
   "execution_count": null,
   "metadata": {},
   "outputs": [],
   "source": []
  }
 ],
 "metadata": {
  "kernelspec": {
   "display_name": "Python 2",
   "language": "python",
   "name": "python2"
  },
  "language_info": {
   "codemirror_mode": {
    "name": "ipython",
    "version": 2
   },
   "file_extension": ".py",
   "mimetype": "text/x-python",
   "name": "python",
   "nbconvert_exporter": "python",
   "pygments_lexer": "ipython2",
   "version": "2.7.14"
  }
 },
 "nbformat": 4,
 "nbformat_minor": 2
}
