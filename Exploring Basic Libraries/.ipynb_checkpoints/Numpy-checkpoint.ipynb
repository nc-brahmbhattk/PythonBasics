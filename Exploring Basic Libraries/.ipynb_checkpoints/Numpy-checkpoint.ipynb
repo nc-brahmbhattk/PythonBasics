{
 "cells": [
  {
   "cell_type": "code",
   "execution_count": 3,
   "metadata": {},
   "outputs": [],
   "source": [
    "# import python library into script\n",
    "import numpy as np"
   ]
  },
  {
   "cell_type": "code",
   "execution_count": 98,
   "metadata": {},
   "outputs": [],
   "source": [
    "# ways to create arrays\n",
    "a = np.array([1,2,3])\n",
    "b = np.array([(1,2,3), (3,5,6)])\n",
    "c = np.array([(4,5,6.3), (7,8,9)], dtype = float)\n",
    "d = np.array([[1,3,4], [5,2,5]], dtype = int)\n",
    "\n",
    "\n",
    "# creating an array of 0's and 1's \n",
    "e = np.zeros((3,4), dtype = int)\n",
    "f = np.ones((1,2), dtype = int)\n",
    "\n",
    "# creating an array of evenly spaced values \n",
    "## the first number specifies starting value, second value ending, and third step size \n",
    "g = np.arange(10,20,2)\n",
    "\n",
    "## the first number specified starting value, second value ending, and third the number of samples\n",
    "h = np.linspace(2,5,10)\n",
    "\n",
    "\n",
    "# create a constant array\n",
    "## first number is rows, second is columns, and third is the constant\n",
    "i = np.full((2,3), 7)\n",
    "\n",
    "# create a matrix of 1's and 0's alternating \n",
    "j = np.eye(5)\n",
    "\n",
    "# create a random array \n",
    "## first number is rows, second is columns\n",
    "\n",
    "k = np.random.random((2,3))\n",
    "\n",
    "## random integers. first number is up to, second is number of samples\n",
    "l = np.random.randint(3, size = 10)"
   ]
  },
  {
   "cell_type": "code",
   "execution_count": 103,
   "metadata": {},
   "outputs": [
    {
     "name": "stdout",
     "output_type": "stream",
     "text": [
      "()\n"
     ]
    }
   ],
   "source": [
    "# how to learn about your array\n",
    "#c.shape\n",
    "\n",
    "print()\n"
   ]
  },
  {
   "cell_type": "code",
   "execution_count": null,
   "metadata": {},
   "outputs": [],
   "source": [
    "# perform basic arithmetic operations\n"
   ]
  },
  {
   "cell_type": "code",
   "execution_count": 10,
   "metadata": {},
   "outputs": [],
   "source": [
    "# aggregate functions"
   ]
  },
  {
   "cell_type": "code",
   "execution_count": 11,
   "metadata": {},
   "outputs": [],
   "source": [
    "# copy array"
   ]
  },
  {
   "cell_type": "code",
   "execution_count": 12,
   "metadata": {},
   "outputs": [],
   "source": [
    "# sort array"
   ]
  },
  {
   "cell_type": "code",
   "execution_count": null,
   "metadata": {},
   "outputs": [],
   "source": []
  }
 ],
 "metadata": {
  "kernelspec": {
   "display_name": "Python 2",
   "language": "python",
   "name": "python2"
  },
  "language_info": {
   "codemirror_mode": {
    "name": "ipython",
    "version": 2
   },
   "file_extension": ".py",
   "mimetype": "text/x-python",
   "name": "python",
   "nbconvert_exporter": "python",
   "pygments_lexer": "ipython2",
   "version": "2.7.14"
  }
 },
 "nbformat": 4,
 "nbformat_minor": 2
}
